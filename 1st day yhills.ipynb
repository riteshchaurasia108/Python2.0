{
 "cells": [
  {
   "cell_type": "markdown",
   "id": "c75a9777",
   "metadata": {},
   "source": [
    "## This file includes:-\n",
    "#### Data Types, find which type, variabe,data structure, list, tuple,set,dictionary"
   ]
  },
  {
   "cell_type": "markdown",
   "id": "c1a0679e",
   "metadata": {},
   "source": [
    "### short cut\n",
    "\n",
    "##### for run- shift+enter\n",
    "##### for markline/highlighgt_-- curser in the cell + M\n",
    "##### for delete the cell___ curser in the cell+dd/x\n",
    "##### for insert a cell above--- curser+A\n",
    "##### for insert a cell down--- curser +b"
   ]
  },
  {
   "cell_type": "markdown",
   "id": "443d55fa",
   "metadata": {},
   "source": [
    "## DATA Types\n",
    "### string/boolean/complex/integer/\n"
   ]
  },
  {
   "cell_type": "markdown",
   "id": "045669a2",
   "metadata": {},
   "source": [
    "## to know which type of data type is use type  to find the type"
   ]
  },
  {
   "cell_type": "code",
   "execution_count": 1,
   "id": "fd2f9d8f",
   "metadata": {},
   "outputs": [
    {
     "data": {
      "text/plain": [
       "str"
      ]
     },
     "execution_count": 1,
     "metadata": {},
     "output_type": "execute_result"
    }
   ],
   "source": [
    "a=\"python\"\n",
    "type(a)\n"
   ]
  },
  {
   "cell_type": "code",
   "execution_count": 2,
   "id": "620e28c5",
   "metadata": {},
   "outputs": [
    {
     "data": {
      "text/plain": [
       "float"
      ]
     },
     "execution_count": 2,
     "metadata": {},
     "output_type": "execute_result"
    }
   ],
   "source": [
    "b=5.2\n",
    "type(b)"
   ]
  },
  {
   "cell_type": "code",
   "execution_count": 3,
   "id": "96bc3d75",
   "metadata": {},
   "outputs": [
    {
     "data": {
      "text/plain": [
       "int"
      ]
     },
     "execution_count": 3,
     "metadata": {},
     "output_type": "execute_result"
    }
   ],
   "source": [
    "d=3\n",
    "type(d)"
   ]
  },
  {
   "cell_type": "code",
   "execution_count": 4,
   "id": "369a73a7",
   "metadata": {},
   "outputs": [
    {
     "data": {
      "text/plain": [
       "complex"
      ]
     },
     "execution_count": 4,
     "metadata": {},
     "output_type": "execute_result"
    }
   ],
   "source": [
    "d=3+2j\n",
    "type(d)"
   ]
  },
  {
   "cell_type": "code",
   "execution_count": 5,
   "id": "c0a54674",
   "metadata": {},
   "outputs": [
    {
     "data": {
      "text/plain": [
       "bool"
      ]
     },
     "execution_count": 5,
     "metadata": {},
     "output_type": "execute_result"
    }
   ],
   "source": [
    "x=False\n",
    "type(x)"
   ]
  },
  {
   "cell_type": "code",
   "execution_count": 6,
   "id": "749331f3",
   "metadata": {},
   "outputs": [
    {
     "data": {
      "text/plain": [
       "str"
      ]
     },
     "execution_count": 6,
     "metadata": {},
     "output_type": "execute_result"
    }
   ],
   "source": [
    "x=\"True\"\n",
    "type(x)"
   ]
  },
  {
   "cell_type": "code",
   "execution_count": null,
   "id": "377e2edb",
   "metadata": {},
   "outputs": [],
   "source": [
    "a=2,b=3.4 add and "
   ]
  },
  {
   "cell_type": "markdown",
   "id": "78e70a69",
   "metadata": {},
   "source": [
    "### Rules for naming the variable\n",
    "##### variable should not start with the number nut no. can be any where except at the starting\n",
    "##### variable name does not support any special character except underscore(_)\n",
    "##### space also not allowed in the variable\n",
    "##### variable name can start A to Z , a to Z\n",
    "##### case sensitive also means if defined upper case then implete should be also capitaal see cel no.9 and 10"
   ]
  },
  {
   "cell_type": "code",
   "execution_count": 7,
   "id": "59a804ea",
   "metadata": {},
   "outputs": [
    {
     "data": {
      "text/plain": [
       "'apple'"
      ]
     },
     "execution_count": 7,
     "metadata": {},
     "output_type": "execute_result"
    }
   ],
   "source": [
    "fruits=\"apple\"\n",
    "fruits\n"
   ]
  },
  {
   "cell_type": "code",
   "execution_count": 8,
   "id": "f2be7633",
   "metadata": {},
   "outputs": [
    {
     "ename": "SyntaxError",
     "evalue": "invalid syntax (3927286213.py, line 1)",
     "output_type": "error",
     "traceback": [
      "\u001b[1;36m  File \u001b[1;32m\"C:\\Users\\rites\\AppData\\Local\\Temp\\ipykernel_14404\\3927286213.py\"\u001b[1;36m, line \u001b[1;32m1\u001b[0m\n\u001b[1;33m    7fruits=\"apple\"\u001b[0m\n\u001b[1;37m     ^\u001b[0m\n\u001b[1;31mSyntaxError\u001b[0m\u001b[1;31m:\u001b[0m invalid syntax\n"
     ]
    }
   ],
   "source": [
    "7fruits=\"apple\"\n",
    "7fruits"
   ]
  },
  {
   "cell_type": "code",
   "execution_count": 9,
   "id": "70b9888e",
   "metadata": {},
   "outputs": [
    {
     "data": {
      "text/plain": [
       "('apple', 'mango')"
      ]
     },
     "execution_count": 9,
     "metadata": {},
     "output_type": "execute_result"
    }
   ],
   "source": [
    "Fruits=\"appple\", \"mango\"\n",
    "Fruits"
   ]
  },
  {
   "cell_type": "code",
   "execution_count": 15,
   "id": "10a098b3",
   "metadata": {},
   "outputs": [
    {
     "data": {
      "text/plain": [
       "('manngo', 'banana')"
      ]
     },
     "execution_count": 15,
     "metadata": {},
     "output_type": "execute_result"
    }
   ],
   "source": [
    "Fruits=\"maango\", \"babana\"\n",
    "fruits "
   ]
  },
  {
   "cell_type": "code",
   "execution_count": 16,
   "id": "60d54441",
   "metadata": {},
   "outputs": [
    {
     "data": {
      "text/plain": [
       "('maango', 'babana')"
      ]
     },
     "execution_count": 16,
     "metadata": {},
     "output_type": "execute_result"
    }
   ],
   "source": [
    "fruits=\"manngo\", \"banana\"\n",
    "Fruits"
   ]
  },
  {
   "cell_type": "code",
   "execution_count": null,
   "id": "a3be5fb0",
   "metadata": {},
   "outputs": [],
   "source": []
  },
  {
   "cell_type": "markdown",
   "id": "1e524df5",
   "metadata": {},
   "source": [
    "# DAta structure\n",
    "###  tuple(),list[],dictionary{}with :(colon)dict  set_ {} with comma,"
   ]
  },
  {
   "cell_type": "code",
   "execution_count": 17,
   "id": "52c64b24",
   "metadata": {},
   "outputs": [
    {
     "data": {
      "text/plain": [
       "tuple"
      ]
     },
     "execution_count": 17,
     "metadata": {},
     "output_type": "execute_result"
    }
   ],
   "source": [
    "x=\"aplle\", \"banana\", \"cherry\"\n",
    "type(x)"
   ]
  },
  {
   "cell_type": "code",
   "execution_count": 18,
   "id": "64035d04",
   "metadata": {},
   "outputs": [
    {
     "data": {
      "text/plain": [
       "list"
      ]
     },
     "execution_count": 18,
     "metadata": {},
     "output_type": "execute_result"
    }
   ],
   "source": [
    "x=[\"apple\", \"banana\", \"cherrry\"]\n",
    "type(x)"
   ]
  },
  {
   "cell_type": "code",
   "execution_count": 19,
   "id": "99491653",
   "metadata": {},
   "outputs": [
    {
     "data": {
      "text/plain": [
       "set"
      ]
     },
     "execution_count": 19,
     "metadata": {},
     "output_type": "execute_result"
    }
   ],
   "source": [
    "x={\"name\", \"kelsa\", \"dj\"}\n",
    "type(x)"
   ]
  },
  {
   "cell_type": "code",
   "execution_count": 20,
   "id": "2bb8638d",
   "metadata": {},
   "outputs": [
    {
     "data": {
      "text/plain": [
       "dict"
      ]
     },
     "execution_count": 20,
     "metadata": {},
     "output_type": "execute_result"
    }
   ],
   "source": [
    "x={\"apple\":\"john\", \"age\":46}\n",
    "type(x)"
   ]
  },
  {
   "cell_type": "markdown",
   "id": "45c678c2",
   "metadata": {},
   "source": [
    "## example"
   ]
  },
  {
   "cell_type": "markdown",
   "id": "dd4ad616",
   "metadata": {},
   "source": [
    "# List\n",
    "#### 1.with square bracket[]\n",
    "#### 2.allow heterogenous(It allow- integer,float,string)\n",
    "#### 3.start index from 0\n",
    "####  4. Mutable using index __ sample_list[3]=8\n"
   ]
  },
  {
   "cell_type": "code",
   "execution_count": 21,
   "id": "d8d4bc56",
   "metadata": {},
   "outputs": [
    {
     "data": {
      "text/plain": [
       "[12, 43, 56, 'hi', (1+2j), 6.7]"
      ]
     },
     "execution_count": 21,
     "metadata": {},
     "output_type": "execute_result"
    }
   ],
   "source": [
    "sample_list=[12,43,56,\"hi\", 1+2j, 6.7]\n",
    "sample_list\n"
   ]
  },
  {
   "cell_type": "code",
   "execution_count": 22,
   "id": "76211603",
   "metadata": {},
   "outputs": [
    {
     "data": {
      "text/plain": [
       "list"
      ]
     },
     "execution_count": 22,
     "metadata": {},
     "output_type": "execute_result"
    }
   ],
   "source": [
    "type(sample_list)"
   ]
  },
  {
   "cell_type": "code",
   "execution_count": 24,
   "id": "c545f04e",
   "metadata": {},
   "outputs": [
    {
     "ename": "TypeError",
     "evalue": "'list' object is not callable",
     "output_type": "error",
     "traceback": [
      "\u001b[1;31m---------------------------------------------------------------------------\u001b[0m",
      "\u001b[1;31mTypeError\u001b[0m                                 Traceback (most recent call last)",
      "\u001b[1;32m~\\AppData\\Local\\Temp\\ipykernel_14404\\1643733622.py\u001b[0m in \u001b[0;36m<module>\u001b[1;34m\u001b[0m\n\u001b[1;32m----> 1\u001b[1;33m \u001b[0msample_list\u001b[0m\u001b[1;33m(\u001b[0m\u001b[1;36m0\u001b[0m\u001b[1;33m)\u001b[0m\u001b[1;33m\u001b[0m\u001b[1;33m\u001b[0m\u001b[0m\n\u001b[0m",
      "\u001b[1;31mTypeError\u001b[0m: 'list' object is not callable"
     ]
    }
   ],
   "source": [
    "sample_list(0)"
   ]
  },
  {
   "cell_type": "code",
   "execution_count": null,
   "id": "ffb79773",
   "metadata": {},
   "outputs": [],
   "source": []
  },
  {
   "cell_type": "code",
   "execution_count": 26,
   "id": "227d59ba",
   "metadata": {},
   "outputs": [
    {
     "data": {
      "text/plain": [
       "12"
      ]
     },
     "execution_count": 26,
     "metadata": {},
     "output_type": "execute_result"
    }
   ],
   "source": [
    "sample_list[0]"
   ]
  },
  {
   "cell_type": "code",
   "execution_count": 27,
   "id": "2b96b237",
   "metadata": {},
   "outputs": [
    {
     "data": {
      "text/plain": [
       "'hi'"
      ]
     },
     "execution_count": 27,
     "metadata": {},
     "output_type": "execute_result"
    }
   ],
   "source": [
    "sample_list[3]"
   ]
  },
  {
   "cell_type": "code",
   "execution_count": 28,
   "id": "e354608c",
   "metadata": {},
   "outputs": [
    {
     "ename": "IndexError",
     "evalue": "list index out of range",
     "output_type": "error",
     "traceback": [
      "\u001b[1;31m---------------------------------------------------------------------------\u001b[0m",
      "\u001b[1;31mIndexError\u001b[0m                                Traceback (most recent call last)",
      "\u001b[1;32m~\\AppData\\Local\\Temp\\ipykernel_14404\\4041542773.py\u001b[0m in \u001b[0;36m<module>\u001b[1;34m\u001b[0m\n\u001b[1;32m----> 1\u001b[1;33m \u001b[0msample_list\u001b[0m\u001b[1;33m[\u001b[0m\u001b[1;36m38\u001b[0m\u001b[1;33m]\u001b[0m\u001b[1;33m\u001b[0m\u001b[1;33m\u001b[0m\u001b[0m\n\u001b[0m\u001b[0;32m      2\u001b[0m \u001b[1;33m\u001b[0m\u001b[0m\n",
      "\u001b[1;31mIndexError\u001b[0m: list index out of range"
     ]
    }
   ],
   "source": [
    "\n",
    "sample_list[38]\n",
    "\n"
   ]
  },
  {
   "cell_type": "code",
   "execution_count": 29,
   "id": "576fdcda",
   "metadata": {},
   "outputs": [
    {
     "data": {
      "text/plain": [
       "56"
      ]
     },
     "execution_count": 29,
     "metadata": {},
     "output_type": "execute_result"
    }
   ],
   "source": [
    "\n",
    "\n",
    "sample_list[2]\n"
   ]
  },
  {
   "cell_type": "markdown",
   "id": "f160b415",
   "metadata": {},
   "source": [
    "## To change list no.  using index item [2] apply these below method"
   ]
  },
  {
   "cell_type": "code",
   "execution_count": 31,
   "id": "82abbc51",
   "metadata": {},
   "outputs": [],
   "source": [
    "sample_list[2]=3.5\n"
   ]
  },
  {
   "cell_type": "code",
   "execution_count": 32,
   "id": "d191de40",
   "metadata": {},
   "outputs": [
    {
     "data": {
      "text/plain": [
       "[12, 43, 3.5, 'hi', (1+2j), 6.7]"
      ]
     },
     "execution_count": 32,
     "metadata": {},
     "output_type": "execute_result"
    }
   ],
   "source": [
    "sample_list"
   ]
  },
  {
   "cell_type": "code",
   "execution_count": 33,
   "id": "d76ab214",
   "metadata": {},
   "outputs": [
    {
     "data": {
      "text/plain": [
       "3.5"
      ]
     },
     "execution_count": 33,
     "metadata": {},
     "output_type": "execute_result"
    }
   ],
   "source": [
    "\n",
    "sample_list[2]"
   ]
  },
  {
   "cell_type": "code",
   "execution_count": 34,
   "id": "b85839cc",
   "metadata": {},
   "outputs": [],
   "source": [
    "sample_list[2]=8"
   ]
  },
  {
   "cell_type": "code",
   "execution_count": 35,
   "id": "4b9b29c5",
   "metadata": {},
   "outputs": [
    {
     "data": {
      "text/plain": [
       "[12, 43, 8, 'hi', (1+2j), 6.7]"
      ]
     },
     "execution_count": 35,
     "metadata": {},
     "output_type": "execute_result"
    }
   ],
   "source": [
    "sample_list"
   ]
  },
  {
   "cell_type": "markdown",
   "id": "565541df",
   "metadata": {},
   "source": [
    "### reverse the list"
   ]
  },
  {
   "cell_type": "code",
   "execution_count": 36,
   "id": "e8d36abe",
   "metadata": {},
   "outputs": [
    {
     "data": {
      "text/plain": [
       "[6.7, (1+2j), 'hi', 8, 43, 12]"
      ]
     },
     "execution_count": 36,
     "metadata": {},
     "output_type": "execute_result"
    }
   ],
   "source": [
    "sample_list.reverse()\n",
    "sample_list"
   ]
  },
  {
   "cell_type": "code",
   "execution_count": null,
   "id": "67acef3b",
   "metadata": {},
   "outputs": [],
   "source": []
  },
  {
   "cell_type": "markdown",
   "id": "d4c2c2bc",
   "metadata": {},
   "source": [
    "# Tuple\n",
    "#### 1. have ()paranthesis / it may  have no any bracket that also defines as tuple\n",
    "#### 2.allows heterogenous \n",
    "#### 3. Immutable( can not change the data once declared / interchange of thevalue is not possible in the tuple but list allows its)\n",
    "\n",
    "# snbr_-- for find in index use square bracket[] and also have no attribute of reverse\n"
   ]
  },
  {
   "cell_type": "code",
   "execution_count": 37,
   "id": "9d8b6268",
   "metadata": {},
   "outputs": [
    {
     "data": {
      "text/plain": [
       "(1, 56, 3.5, 'hi', (1+2j))"
      ]
     },
     "execution_count": 37,
     "metadata": {},
     "output_type": "execute_result"
    }
   ],
   "source": [
    "sample_tuple=(1,56,3.5, \"hi\", 1+2j)\n",
    "sample_tuple\n"
   ]
  },
  {
   "cell_type": "code",
   "execution_count": 38,
   "id": "018b8ecd",
   "metadata": {},
   "outputs": [
    {
     "data": {
      "text/plain": [
       "tuple"
      ]
     },
     "execution_count": 38,
     "metadata": {},
     "output_type": "execute_result"
    }
   ],
   "source": [
    "type(sample_tuple)"
   ]
  },
  {
   "cell_type": "code",
   "execution_count": 39,
   "id": "63571a79",
   "metadata": {},
   "outputs": [
    {
     "data": {
      "text/plain": [
       "(1, 56, 3.5, 'hi', (1+2j))"
      ]
     },
     "execution_count": 39,
     "metadata": {},
     "output_type": "execute_result"
    }
   ],
   "source": [
    "sample_tuple=1,56,3.5, \"hi\", 1+2j\n",
    "sample_tuple"
   ]
  },
  {
   "cell_type": "code",
   "execution_count": 40,
   "id": "71d65d97",
   "metadata": {},
   "outputs": [
    {
     "data": {
      "text/plain": [
       "tuple"
      ]
     },
     "execution_count": 40,
     "metadata": {},
     "output_type": "execute_result"
    }
   ],
   "source": [
    "type(sample_tuple)\n"
   ]
  },
  {
   "cell_type": "code",
   "execution_count": 41,
   "id": "28122512",
   "metadata": {},
   "outputs": [
    {
     "ename": "TypeError",
     "evalue": "'tuple' object is not callable",
     "output_type": "error",
     "traceback": [
      "\u001b[1;31m---------------------------------------------------------------------------\u001b[0m",
      "\u001b[1;31mTypeError\u001b[0m                                 Traceback (most recent call last)",
      "\u001b[1;32m~\\AppData\\Local\\Temp\\ipykernel_14404\\821588131.py\u001b[0m in \u001b[0;36m<module>\u001b[1;34m\u001b[0m\n\u001b[1;32m----> 1\u001b[1;33m \u001b[0msample_tuple\u001b[0m\u001b[1;33m(\u001b[0m\u001b[1;36m2\u001b[0m\u001b[1;33m)\u001b[0m\u001b[1;33m\u001b[0m\u001b[1;33m\u001b[0m\u001b[0m\n\u001b[0m",
      "\u001b[1;31mTypeError\u001b[0m: 'tuple' object is not callable"
     ]
    }
   ],
   "source": [
    "sample_tuple(2)"
   ]
  },
  {
   "cell_type": "code",
   "execution_count": 42,
   "id": "a5fd11c5",
   "metadata": {},
   "outputs": [
    {
     "data": {
      "text/plain": [
       "3.5"
      ]
     },
     "execution_count": 42,
     "metadata": {},
     "output_type": "execute_result"
    }
   ],
   "source": [
    "sample_tuple[2]"
   ]
  },
  {
   "cell_type": "code",
   "execution_count": 43,
   "id": "4122291d",
   "metadata": {},
   "outputs": [
    {
     "ename": "TypeError",
     "evalue": "'tuple' object does not support item assignment",
     "output_type": "error",
     "traceback": [
      "\u001b[1;31m---------------------------------------------------------------------------\u001b[0m",
      "\u001b[1;31mTypeError\u001b[0m                                 Traceback (most recent call last)",
      "\u001b[1;32m~\\AppData\\Local\\Temp\\ipykernel_14404\\3600205109.py\u001b[0m in \u001b[0;36m<module>\u001b[1;34m\u001b[0m\n\u001b[1;32m----> 1\u001b[1;33m \u001b[0msample_tuple\u001b[0m\u001b[1;33m[\u001b[0m\u001b[1;36m2\u001b[0m\u001b[1;33m]\u001b[0m\u001b[1;33m=\u001b[0m\u001b[1;34m\"hello\"\u001b[0m\u001b[1;33m\u001b[0m\u001b[1;33m\u001b[0m\u001b[0m\n\u001b[0m",
      "\u001b[1;31mTypeError\u001b[0m: 'tuple' object does not support item assignment"
     ]
    }
   ],
   "source": [
    "sample_tuple[2]=\"hello\""
   ]
  },
  {
   "cell_type": "code",
   "execution_count": 44,
   "id": "83b140aa",
   "metadata": {},
   "outputs": [
    {
     "data": {
      "text/plain": [
       "(1, 56, 3.5, 'hi', (1+2j))"
      ]
     },
     "execution_count": 44,
     "metadata": {},
     "output_type": "execute_result"
    }
   ],
   "source": [
    "sample_tuple"
   ]
  },
  {
   "cell_type": "code",
   "execution_count": 45,
   "id": "f8c53944",
   "metadata": {},
   "outputs": [
    {
     "ename": "AttributeError",
     "evalue": "'tuple' object has no attribute 'reverse'",
     "output_type": "error",
     "traceback": [
      "\u001b[1;31m---------------------------------------------------------------------------\u001b[0m",
      "\u001b[1;31mAttributeError\u001b[0m                            Traceback (most recent call last)",
      "\u001b[1;32m~\\AppData\\Local\\Temp\\ipykernel_14404\\2214965460.py\u001b[0m in \u001b[0;36m<module>\u001b[1;34m\u001b[0m\n\u001b[1;32m----> 1\u001b[1;33m \u001b[0msample_tuple\u001b[0m\u001b[1;33m.\u001b[0m\u001b[0mreverse\u001b[0m\u001b[1;33m\u001b[0m\u001b[1;33m\u001b[0m\u001b[0m\n\u001b[0m",
      "\u001b[1;31mAttributeError\u001b[0m: 'tuple' object has no attribute 'reverse'"
     ]
    }
   ],
   "source": [
    "sample_tuple.reverse"
   ]
  },
  {
   "cell_type": "code",
   "execution_count": null,
   "id": "a1d761af",
   "metadata": {},
   "outputs": [],
   "source": []
  },
  {
   "cell_type": "markdown",
   "id": "be8c171f",
   "metadata": {},
   "source": [
    "\n",
    "# SET\n",
    "### output will be-  start with zero, remove their duplicate(means no repeate), arrange on the basic of digit(1,123,13.5,21,22,23,252) ascending order\n",
    "#### 1. add heterogenous\n",
    "#### 2. does not allow duplicates\n",
    "#### 3. can not access when the index is uses or run\n",
    "#### 4. immutable using index but adding and removing is allowed randomly not on the basis of the index\n",
    "#### 5. orederd in a first place\n"
   ]
  },
  {
   "cell_type": "code",
   "execution_count": 63,
   "id": "0cd94073",
   "metadata": {},
   "outputs": [
    {
     "data": {
      "text/plain": [
       "{0, 1, 123, 13.5, 21, 22, 23, 252, 3, 43, 45, 66, 67, 'a', 'abc', 'fox', 'hii'}"
      ]
     },
     "execution_count": 63,
     "metadata": {},
     "output_type": "execute_result"
    }
   ],
   "source": [
    "sample_set={1,123,43,23,45,67,22,21,3,66,66,0,23,43,1,\"hii\",\"fox\",\"a\",\"abc\",252,13.5}\n",
    "sample_set"
   ]
  },
  {
   "cell_type": "code",
   "execution_count": 47,
   "id": "030bac3c",
   "metadata": {},
   "outputs": [
    {
     "data": {
      "text/plain": [
       "{0, 1, 123, 13.5, 21, 22, 23, 252, 3, 43, 45, 66, 67, 'a', 'abc', 'fox', 'hii'}"
      ]
     },
     "execution_count": 47,
     "metadata": {},
     "output_type": "execute_result"
    }
   ],
   "source": [
    "sample_set"
   ]
  },
  {
   "cell_type": "markdown",
   "id": "b5aabaf8",
   "metadata": {},
   "source": [
    "#### due to below incorrect. on the 2nd index that is 123 is alos not running after this happens///////we cannot retrieve the element using index in a set"
   ]
  },
  {
   "cell_type": "code",
   "execution_count": 49,
   "id": "1af6e71c",
   "metadata": {},
   "outputs": [
    {
     "ename": "TypeError",
     "evalue": "'set' object is not subscriptable",
     "output_type": "error",
     "traceback": [
      "\u001b[1;31m---------------------------------------------------------------------------\u001b[0m",
      "\u001b[1;31mTypeError\u001b[0m                                 Traceback (most recent call last)",
      "\u001b[1;32m~\\AppData\\Local\\Temp\\ipykernel_14404\\2259847489.py\u001b[0m in \u001b[0;36m<module>\u001b[1;34m\u001b[0m\n\u001b[1;32m----> 1\u001b[1;33m \u001b[0msample_set\u001b[0m\u001b[1;33m[\u001b[0m\u001b[1;36m2\u001b[0m\u001b[1;33m]\u001b[0m\u001b[1;33m\u001b[0m\u001b[1;33m\u001b[0m\u001b[0m\n\u001b[0m",
      "\u001b[1;31mTypeError\u001b[0m: 'set' object is not subscriptable"
     ]
    }
   ],
   "source": [
    "sample_set[2]"
   ]
  },
  {
   "cell_type": "code",
   "execution_count": 50,
   "id": "fc831642",
   "metadata": {},
   "outputs": [
    {
     "ename": "TypeError",
     "evalue": "'set' object does not support item assignment",
     "output_type": "error",
     "traceback": [
      "\u001b[1;31m---------------------------------------------------------------------------\u001b[0m",
      "\u001b[1;31mTypeError\u001b[0m                                 Traceback (most recent call last)",
      "\u001b[1;32m~\\AppData\\Local\\Temp\\ipykernel_14404\\3219105090.py\u001b[0m in \u001b[0;36m<module>\u001b[1;34m\u001b[0m\n\u001b[1;32m----> 1\u001b[1;33m \u001b[0msample_set\u001b[0m\u001b[1;33m[\u001b[0m\u001b[1;36m2\u001b[0m\u001b[1;33m]\u001b[0m\u001b[1;33m=\u001b[0m\u001b[1;34m\"hooo\"\u001b[0m\u001b[1;33m\u001b[0m\u001b[1;33m\u001b[0m\u001b[0m\n\u001b[0m",
      "\u001b[1;31mTypeError\u001b[0m: 'set' object does not support item assignment"
     ]
    }
   ],
   "source": [
    "sample_set[2]=\"hooo\""
   ]
  },
  {
   "cell_type": "code",
   "execution_count": 62,
   "id": "a90d8e24",
   "metadata": {},
   "outputs": [
    {
     "data": {
      "text/plain": [
       "{0, 13.5, 22, 252, 3, 45, 66, 67, 'a', 'abc', 'fox', 'g', 'hii'}"
      ]
     },
     "execution_count": 62,
     "metadata": {},
     "output_type": "execute_result"
    }
   ],
   "source": [
    "sample_set"
   ]
  },
  {
   "cell_type": "code",
   "execution_count": 61,
   "id": "95fbecf4",
   "metadata": {},
   "outputs": [
    {
     "data": {
      "text/plain": [
       "{0, 13.5, 22, 252, 3, 45, 66, 67, 'a', 'abc', 'fox', 'g', 'hii'}"
      ]
     },
     "execution_count": 61,
     "metadata": {},
     "output_type": "execute_result"
    }
   ],
   "source": [
    "sample_set\n"
   ]
  },
  {
   "cell_type": "code",
   "execution_count": 58,
   "id": "ad9b7cbf",
   "metadata": {},
   "outputs": [
    {
     "data": {
      "text/plain": [
       "{0, 13.5, 22, 23, 252, 3, 45, 66, 67, 'a', 'abc', 'fox', 'g', 'hii'}"
      ]
     },
     "execution_count": 58,
     "metadata": {},
     "output_type": "execute_result"
    }
   ],
   "source": [
    "sample_set.remove(21)\n",
    "sample_set"
   ]
  },
  {
   "cell_type": "code",
   "execution_count": 56,
   "id": "9314e4a2",
   "metadata": {},
   "outputs": [
    {
     "data": {
      "text/plain": [
       "{0, 1, 13.5, 21, 22, 23, 252, 3, 45, 66, 67, 'a', 'abc', 'fox', 'g', 'hii'}"
      ]
     },
     "execution_count": 56,
     "metadata": {},
     "output_type": "execute_result"
    }
   ],
   "source": [
    "sample_set.add(\"g\")\n",
    "sample_set"
   ]
  },
  {
   "cell_type": "code",
   "execution_count": 59,
   "id": "f28ce402",
   "metadata": {},
   "outputs": [
    {
     "data": {
      "text/plain": [
       "{0, 13.5, 22, 23, 252, 3, 45, 66, 67, 'a', 'abc', 'fox', 'g', 'hii'}"
      ]
     },
     "execution_count": 59,
     "metadata": {},
     "output_type": "execute_result"
    }
   ],
   "source": [
    "sample_set"
   ]
  },
  {
   "cell_type": "code",
   "execution_count": 60,
   "id": "70e858de",
   "metadata": {},
   "outputs": [
    {
     "data": {
      "text/plain": [
       "{0, 13.5, 22, 252, 3, 45, 66, 67, 'a', 'abc', 'fox', 'g', 'hii'}"
      ]
     },
     "execution_count": 60,
     "metadata": {},
     "output_type": "execute_result"
    }
   ],
   "source": [
    "sample_set.remove(23)\n",
    "sample_set"
   ]
  },
  {
   "cell_type": "markdown",
   "id": "0e20346a",
   "metadata": {},
   "source": [
    "# DICTIONARY\n",
    "#### 1. Dictionary has key values pair datasructure\n",
    "#### 2. key is uniquw(only one times) but value can be dupcated\n",
    "#### 3. can retrive value using key\n",
    "#### 4. can change the value using key\n",
    "#### 5. key is immutable\n",
    "\n",
    "## Snbr\n",
    "### in tuple & list we retrivute value by index[0]/[1]/[2] But in Dictionary we retrivute (take ) value from key(before colon wala)\n",
    "####  in case having repeated value with the same key then latest(last) value will take(impleted)"
   ]
  },
  {
   "cell_type": "code",
   "execution_count": 67,
   "id": "6017db4e",
   "metadata": {},
   "outputs": [
    {
     "data": {
      "text/plain": [
       "dict"
      ]
     },
     "execution_count": 67,
     "metadata": {},
     "output_type": "execute_result"
    }
   ],
   "source": [
    "sample_dict={\"a\":\"alpha\",1:\"first\",2:\"second\" ,3:\"three\", 1:\"fourth\", 5:\"fourth\", 6:\"sixth\"}\n",
    "type(sample_dict) "
   ]
  },
  {
   "cell_type": "code",
   "execution_count": 78,
   "id": "630824ef",
   "metadata": {},
   "outputs": [
    {
     "data": {
      "text/plain": [
       "{'a': 'alpha',\n",
       " 1: 'fourth',\n",
       " 2: 'second',\n",
       " 3: 'three',\n",
       " 5: 'fifth',\n",
       " 6: 'sixth',\n",
       " 7: 'seventy'}"
      ]
     },
     "execution_count": 78,
     "metadata": {},
     "output_type": "execute_result"
    }
   ],
   "source": [
    "sample_dict # before colon keys and after colon is called as value.. key:value"
   ]
  },
  {
   "cell_type": "code",
   "execution_count": 71,
   "id": "b876d5ba",
   "metadata": {},
   "outputs": [
    {
     "data": {
      "text/plain": [
       "'alpha'"
      ]
     },
     "execution_count": 71,
     "metadata": {},
     "output_type": "execute_result"
    }
   ],
   "source": [
    "sample_dict[\"a\"] # index value is not taking here .. here use key value(before colon)"
   ]
  },
  {
   "cell_type": "code",
   "execution_count": 72,
   "id": "b360fc59",
   "metadata": {},
   "outputs": [
    {
     "ename": "KeyError",
     "evalue": "'alpha'",
     "output_type": "error",
     "traceback": [
      "\u001b[1;31m---------------------------------------------------------------------------\u001b[0m",
      "\u001b[1;31mKeyError\u001b[0m                                  Traceback (most recent call last)",
      "\u001b[1;32m~\\AppData\\Local\\Temp\\ipykernel_14404\\533062558.py\u001b[0m in \u001b[0;36m<module>\u001b[1;34m\u001b[0m\n\u001b[1;32m----> 1\u001b[1;33m \u001b[0msample_dict\u001b[0m\u001b[1;33m[\u001b[0m\u001b[1;34m\"alpha\"\u001b[0m\u001b[1;33m]\u001b[0m\u001b[1;33m\u001b[0m\u001b[1;33m\u001b[0m\u001b[0m\n\u001b[0m",
      "\u001b[1;31mKeyError\u001b[0m: 'alpha'"
     ]
    }
   ],
   "source": [
    "sample_dict[\"alpha\"] # cant take key using value"
   ]
  },
  {
   "cell_type": "code",
   "execution_count": 74,
   "id": "6f4a6ad7",
   "metadata": {},
   "outputs": [
    {
     "data": {
      "text/plain": [
       "{'a': 'alpha', 1: 'fourth', 2: 'second', 3: 'three', 5: 'fifth', 6: 'sixth'}"
      ]
     },
     "execution_count": 74,
     "metadata": {},
     "output_type": "execute_result"
    }
   ],
   "source": [
    "\n",
    "sample_dict[5]=\"fifth\" # mutable using key only(value can be change using key)\n",
    "sample_dict"
   ]
  },
  {
   "cell_type": "code",
   "execution_count": 75,
   "id": "ef2a8949",
   "metadata": {},
   "outputs": [
    {
     "data": {
      "text/plain": [
       "{'a': 'alpha',\n",
       " 1: 'fourth',\n",
       " 2: 'second',\n",
       " 3: 'three',\n",
       " 5: 'fifth',\n",
       " 6: 'sixth',\n",
       " 7: 'seventy'}"
      ]
     },
     "execution_count": 75,
     "metadata": {},
     "output_type": "execute_result"
    }
   ],
   "source": [
    "sample_dict[7]=\"seventy\" # it sjowing output vertically so dont be panic its only presenting\n",
    "sample_dict"
   ]
  },
  {
   "cell_type": "code",
   "execution_count": 76,
   "id": "fe7d1436",
   "metadata": {},
   "outputs": [
    {
     "ename": "AttributeError",
     "evalue": "'dict' object has no attribute 'reverse'",
     "output_type": "error",
     "traceback": [
      "\u001b[1;31m---------------------------------------------------------------------------\u001b[0m",
      "\u001b[1;31mAttributeError\u001b[0m                            Traceback (most recent call last)",
      "\u001b[1;32m~\\AppData\\Local\\Temp\\ipykernel_14404\\2279655043.py\u001b[0m in \u001b[0;36m<module>\u001b[1;34m\u001b[0m\n\u001b[1;32m----> 1\u001b[1;33m \u001b[0msample_dict\u001b[0m\u001b[1;33m.\u001b[0m\u001b[0mreverse\u001b[0m\u001b[1;33m(\u001b[0m\u001b[1;33m)\u001b[0m\u001b[1;33m\u001b[0m\u001b[1;33m\u001b[0m\u001b[0m\n\u001b[0m",
      "\u001b[1;31mAttributeError\u001b[0m: 'dict' object has no attribute 'reverse'"
     ]
    }
   ],
   "source": [
    "sample_dict.reverse() # cant reverse the data"
   ]
  },
  {
   "cell_type": "code",
   "execution_count": null,
   "id": "ad22e2f4",
   "metadata": {},
   "outputs": [],
   "source": []
  }
 ],
 "metadata": {
  "kernelspec": {
   "display_name": "Python 3 (ipykernel)",
   "language": "python",
   "name": "python3"
  },
  "language_info": {
   "codemirror_mode": {
    "name": "ipython",
    "version": 3
   },
   "file_extension": ".py",
   "mimetype": "text/x-python",
   "name": "python",
   "nbconvert_exporter": "python",
   "pygments_lexer": "ipython3",
   "version": "3.9.13"
  }
 },
 "nbformat": 4,
 "nbformat_minor": 5
}

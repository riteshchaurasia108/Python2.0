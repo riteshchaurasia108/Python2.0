{
 "cells": [
  {
   "attachments": {},
   "cell_type": "markdown",
   "id": "8963e248",
   "metadata": {},
   "source": [
    "# First day with Engineering core."
   ]
  },
  {
   "cell_type": "markdown",
   "id": "f9355672",
   "metadata": {},
   "source": [
    "### Print Hello World"
   ]
  },
  {
   "attachments": {},
   "cell_type": "markdown",
   "id": "f1b53fb9",
   "metadata": {},
   "source": []
  },
  {
   "cell_type": "code",
   "execution_count": null,
   "id": "75eaddce",
   "metadata": {},
   "outputs": [],
   "source": [
    "print(\"Hello World\")"
   ]
  },
  {
   "cell_type": "code",
   "execution_count": null,
   "id": "c8bc0abe",
   "metadata": {},
   "outputs": [],
   "source": [
    "print(\"Premlatha\")"
   ]
  },
  {
   "cell_type": "code",
   "execution_count": null,
   "id": "062be84c",
   "metadata": {},
   "outputs": [],
   "source": [
    "print(\"DataScience\")"
   ]
  },
  {
   "cell_type": "markdown",
   "id": "1cf37998",
   "metadata": {},
   "source": [
    "### Variables"
   ]
  },
  {
   "cell_type": "code",
   "execution_count": null,
   "id": "9227a9b2",
   "metadata": {},
   "outputs": [],
   "source": [
    "name=\"Latha\"\n",
    "Age=35\n",
    "Income=100000"
   ]
  },
  {
   "cell_type": "code",
   "execution_count": null,
   "id": "96afebb3",
   "metadata": {},
   "outputs": [],
   "source": [
    "print(name)\n",
    "print(Age)\n",
    "print(Income)"
   ]
  },
  {
   "cell_type": "code",
   "execution_count": null,
   "id": "5f419306",
   "metadata": {},
   "outputs": [],
   "source": [
    "namelist=\"Latha\",\"Prema\"\n",
    "namelist"
   ]
  },
  {
   "cell_type": "code",
   "execution_count": null,
   "id": "3088fdf5",
   "metadata": {},
   "outputs": [],
   "source": [
    "name list=\"Latha\",\"Prema\"\n",
    "name list"
   ]
  },
  {
   "cell_type": "markdown",
   "id": "e40b1ce6",
   "metadata": {},
   "source": [
    "##### Space is not allowed"
   ]
  },
  {
   "cell_type": "code",
   "execution_count": null,
   "id": "ee46213e",
   "metadata": {},
   "outputs": [],
   "source": [
    "2namelist=\"Latha\",\"Prema\"\n",
    "2namelist"
   ]
  },
  {
   "cell_type": "markdown",
   "id": "489015c8",
   "metadata": {},
   "source": [
    "##### Variable name should not start with a number"
   ]
  },
  {
   "cell_type": "code",
   "execution_count": null,
   "id": "dbd28db6",
   "metadata": {},
   "outputs": [],
   "source": [
    "n2amelist=\"Latha\",\"Prema\"\n",
    "n2amelist"
   ]
  },
  {
   "cell_type": "code",
   "execution_count": null,
   "id": "6e51a254",
   "metadata": {},
   "outputs": [],
   "source": [
    "name+list=\"Latha\",\"Prema\"\n",
    "name+list"
   ]
  },
  {
   "cell_type": "code",
   "execution_count": null,
   "id": "1a51539e",
   "metadata": {},
   "outputs": [],
   "source": [
    "name_list=\"Latha\",\"Prema\"\n",
    "name_list"
   ]
  },
  {
   "cell_type": "markdown",
   "id": "98787efb",
   "metadata": {},
   "source": [
    "##### The only allowed spl character is underscore"
   ]
  },
  {
   "cell_type": "markdown",
   "id": "de2639c8",
   "metadata": {},
   "source": [
    "##### Variable name should start with A-Z,a-z or underscore"
   ]
  },
  {
   "cell_type": "code",
   "execution_count": null,
   "id": "f3ee0bfb",
   "metadata": {},
   "outputs": [],
   "source": [
    "name=\"ai\"\n",
    "\n",
    "type(name)"
   ]
  },
  {
   "cell_type": "code",
   "execution_count": null,
   "id": "f5bebfc2",
   "metadata": {},
   "outputs": [],
   "source": [
    "x=10\n",
    "type(x)"
   ]
  },
  {
   "cell_type": "code",
   "execution_count": null,
   "id": "9fc11746",
   "metadata": {},
   "outputs": [],
   "source": [
    "x=10.7\n",
    "type(x)"
   ]
  },
  {
   "cell_type": "code",
   "execution_count": null,
   "id": "8b532dd2",
   "metadata": {},
   "outputs": [],
   "source": [
    "x=True\n",
    "type(x)"
   ]
  },
  {
   "cell_type": "code",
   "execution_count": null,
   "id": "b4c3209c",
   "metadata": {},
   "outputs": [],
   "source": [
    "y=False\n",
    "type(y)"
   ]
  },
  {
   "cell_type": "code",
   "execution_count": null,
   "id": "c0659bf6",
   "metadata": {},
   "outputs": [],
   "source": [
    "y=true\n",
    "type(y)"
   ]
  },
  {
   "cell_type": "markdown",
   "id": "4eebac85",
   "metadata": {},
   "source": [
    "###### Python is case-sensitive"
   ]
  },
  {
   "cell_type": "code",
   "execution_count": null,
   "id": "86e6d359",
   "metadata": {},
   "outputs": [],
   "source": [
    "z=\"True\"\n",
    "type(z)"
   ]
  },
  {
   "cell_type": "code",
   "execution_count": null,
   "id": "499160a6",
   "metadata": {},
   "outputs": [],
   "source": [
    "z='True'\n",
    "type(z)"
   ]
  },
  {
   "cell_type": "markdown",
   "id": "3b7194df",
   "metadata": {},
   "source": [
    "#### Implicit conversion"
   ]
  },
  {
   "cell_type": "code",
   "execution_count": null,
   "id": "01be4738",
   "metadata": {},
   "outputs": [],
   "source": [
    "x=10\n",
    "y=2\n",
    "x/y"
   ]
  },
  {
   "cell_type": "code",
   "execution_count": null,
   "id": "24e24b27",
   "metadata": {},
   "outputs": [],
   "source": [
    "x=10\n",
    "y=\"ds\"\n",
    "x+y"
   ]
  },
  {
   "cell_type": "code",
   "execution_count": null,
   "id": "3e6eb6ed",
   "metadata": {},
   "outputs": [],
   "source": [
    "x=10.5\n",
    "y=\"10\"\n",
    "x+y"
   ]
  },
  {
   "cell_type": "code",
   "execution_count": null,
   "id": "9649e64f",
   "metadata": {},
   "outputs": [],
   "source": [
    "x=10.5\n",
    "y=\"10\"\n",
    "x+int(y)"
   ]
  },
  {
   "cell_type": "code",
   "execution_count": null,
   "id": "781adcd8",
   "metadata": {},
   "outputs": [],
   "source": [
    "x=\"ds\"\n",
    "y=\"da\"\n",
    "x+y"
   ]
  },
  {
   "cell_type": "code",
   "execution_count": null,
   "id": "aea3420c",
   "metadata": {},
   "outputs": [],
   "source": [
    "x=10\n",
    "y=10.4\n",
    "x+y"
   ]
  },
  {
   "cell_type": "code",
   "execution_count": null,
   "id": "d24d4a44",
   "metadata": {},
   "outputs": [],
   "source": [
    "int -> float\n",
    "int->string\n",
    "float->int\n",
    "float->str\n",
    "str->int\n",
    "str->float"
   ]
  },
  {
   "cell_type": "code",
   "execution_count": null,
   "id": "dc551b04",
   "metadata": {},
   "outputs": [],
   "source": [
    "x=\"hi\"\n",
    "int(x)"
   ]
  },
  {
   "cell_type": "code",
   "execution_count": null,
   "id": "28b5e0c9",
   "metadata": {},
   "outputs": [],
   "source": [
    "x=\"hi\"\n",
    "float(x)"
   ]
  },
  {
   "cell_type": "markdown",
   "id": "36d2ee41",
   "metadata": {},
   "source": [
    "### Day 2(03/06/2023)"
   ]
  },
  {
   "cell_type": "markdown",
   "id": "50ee5224",
   "metadata": {},
   "source": [
    "#### operators"
   ]
  },
  {
   "cell_type": "markdown",
   "id": "f51acacb",
   "metadata": {},
   "source": [
    "##### Arithmetic Operators"
   ]
  },
  {
   "cell_type": "code",
   "execution_count": null,
   "id": "01d52c62",
   "metadata": {},
   "outputs": [],
   "source": [
    "x=5\n",
    "y=10\n",
    "z=x+y\n",
    "print(z)\n",
    "type(z)"
   ]
  },
  {
   "cell_type": "code",
   "execution_count": null,
   "id": "12f504b3",
   "metadata": {},
   "outputs": [],
   "source": [
    "first_name=\"Prema\"\n",
    "second_name=\"latha\"\n",
    "full_name=first_name+second_name\n",
    "full_name"
   ]
  },
  {
   "cell_type": "code",
   "execution_count": null,
   "id": "fd4164a4",
   "metadata": {},
   "outputs": [],
   "source": [
    "text=\"Age is \"\n",
    "age=\"22\"\n",
    "combine=text+age\n",
    "combine"
   ]
  },
  {
   "cell_type": "code",
   "execution_count": null,
   "id": "2334b4ad",
   "metadata": {},
   "outputs": [],
   "source": [
    "x=5\n",
    "y=10\n",
    "z=x-y\n",
    "print(z)\n",
    "type(z)"
   ]
  },
  {
   "cell_type": "code",
   "execution_count": null,
   "id": "6595563d",
   "metadata": {},
   "outputs": [],
   "source": [
    "first_name=\"Prema\"\n",
    "second_name=\"latha\"\n",
    "full_name=first_name-second_name\n",
    "full_name"
   ]
  },
  {
   "cell_type": "code",
   "execution_count": null,
   "id": "aa0a69a7",
   "metadata": {},
   "outputs": [],
   "source": [
    "x=5\n",
    "y=10\n",
    "z=x*y\n",
    "print(z)\n",
    "type(z)"
   ]
  },
  {
   "cell_type": "code",
   "execution_count": null,
   "id": "cba478bf",
   "metadata": {},
   "outputs": [],
   "source": [
    "value=\"ai   \"\n",
    "count=3\n",
    "result=value*count\n",
    "result"
   ]
  },
  {
   "cell_type": "code",
   "execution_count": null,
   "id": "76b04204",
   "metadata": {},
   "outputs": [],
   "source": [
    "x=5\n",
    "y=10\n",
    "z=x/y\n",
    "print(z)\n",
    "type(z)"
   ]
  },
  {
   "cell_type": "code",
   "execution_count": null,
   "id": "6044ae42",
   "metadata": {},
   "outputs": [],
   "source": [
    "value=\"ai   \"\n",
    "count=3\n",
    "result=value/count\n",
    "result"
   ]
  },
  {
   "cell_type": "code",
   "execution_count": null,
   "id": "2342d18a",
   "metadata": {},
   "outputs": [],
   "source": [
    "x=27\n",
    "y=4\n",
    "z=x%y\n",
    "z"
   ]
  },
  {
   "cell_type": "code",
   "execution_count": null,
   "id": "61a1ce9d",
   "metadata": {},
   "outputs": [],
   "source": [
    "x=28\n",
    "y=4\n",
    "z=x%y\n",
    "z"
   ]
  },
  {
   "cell_type": "code",
   "execution_count": null,
   "id": "4a135c8d",
   "metadata": {},
   "outputs": [],
   "source": [
    "x=29\n",
    "y=4\n",
    "z=x%y\n",
    "z"
   ]
  },
  {
   "cell_type": "code",
   "execution_count": null,
   "id": "78edc20f",
   "metadata": {},
   "outputs": [],
   "source": [
    "x=4\n",
    "y=27\n",
    "z=x%y\n",
    "z"
   ]
  },
  {
   "cell_type": "markdown",
   "id": "c10d7ade",
   "metadata": {},
   "source": [
    "###### Modulus ->Numerator > Denominator it returns Remainder else it returns x"
   ]
  },
  {
   "cell_type": "code",
   "execution_count": null,
   "id": "da8ff1f8",
   "metadata": {},
   "outputs": [],
   "source": [
    "x=27\n",
    "y=4\n",
    "z=x//y\n",
    "z"
   ]
  },
  {
   "cell_type": "code",
   "execution_count": null,
   "id": "48ee1ab8",
   "metadata": {},
   "outputs": [],
   "source": [
    "x=4\n",
    "y=27\n",
    "z=x//y\n",
    "z"
   ]
  },
  {
   "cell_type": "code",
   "execution_count": null,
   "id": "6389b326",
   "metadata": {},
   "outputs": [],
   "source": [
    "x=6\n",
    "y=27\n",
    "z=x//y\n",
    "z"
   ]
  },
  {
   "cell_type": "markdown",
   "id": "2ee1a1c0",
   "metadata": {},
   "source": [
    "###### Floor Division ->Numerator > Denominator it returns Quotient else it returns 0"
   ]
  },
  {
   "cell_type": "code",
   "execution_count": null,
   "id": "7875f23b",
   "metadata": {},
   "outputs": [],
   "source": [
    "x=2\n",
    "y=5\n",
    "z=x**y\n",
    "z"
   ]
  },
  {
   "cell_type": "markdown",
   "id": "7f86a82e",
   "metadata": {},
   "source": [
    "##### Relational operators"
   ]
  },
  {
   "cell_type": "code",
   "execution_count": null,
   "id": "ab4d1747",
   "metadata": {},
   "outputs": [],
   "source": [
    "x=25\n",
    "y=30\n",
    "x>y"
   ]
  },
  {
   "cell_type": "code",
   "execution_count": null,
   "id": "cea43b37",
   "metadata": {},
   "outputs": [],
   "source": [
    "x=25\n",
    "y=30\n",
    "x<y"
   ]
  },
  {
   "cell_type": "code",
   "execution_count": null,
   "id": "9274f894",
   "metadata": {},
   "outputs": [],
   "source": [
    "x=25\n",
    "y=30\n",
    "x==y"
   ]
  },
  {
   "cell_type": "code",
   "execution_count": null,
   "id": "43d26ee2",
   "metadata": {},
   "outputs": [],
   "source": [
    "x=25\n",
    "y=30\n",
    "x!=y"
   ]
  },
  {
   "cell_type": "code",
   "execution_count": null,
   "id": "b20aac4d",
   "metadata": {},
   "outputs": [],
   "source": [
    "x=30\n",
    "y=25\n",
    "x>=y"
   ]
  },
  {
   "cell_type": "code",
   "execution_count": null,
   "id": "8314a9fd",
   "metadata": {},
   "outputs": [],
   "source": [
    "x=30\n",
    "y=25\n",
    "x<=y"
   ]
  },
  {
   "cell_type": "markdown",
   "id": "1547061b",
   "metadata": {},
   "source": [
    "### Logical operators"
   ]
  },
  {
   "cell_type": "code",
   "execution_count": null,
   "id": "8070d24a",
   "metadata": {},
   "outputs": [],
   "source": [
    "is_student=True\n",
    "in_college=True\n",
    "in_school=False"
   ]
  },
  {
   "cell_type": "code",
   "execution_count": null,
   "id": "a50c1dc0",
   "metadata": {},
   "outputs": [],
   "source": [
    "is_student and in_college"
   ]
  },
  {
   "cell_type": "code",
   "execution_count": null,
   "id": "2783c2d1",
   "metadata": {},
   "outputs": [],
   "source": [
    "is_student and in_school"
   ]
  },
  {
   "cell_type": "code",
   "execution_count": null,
   "id": "17b11783",
   "metadata": {},
   "outputs": [],
   "source": [
    "is_student or in_college"
   ]
  },
  {
   "cell_type": "code",
   "execution_count": null,
   "id": "04970bd0",
   "metadata": {},
   "outputs": [],
   "source": [
    "is_student or in_school"
   ]
  },
  {
   "cell_type": "code",
   "execution_count": null,
   "id": "f051f955",
   "metadata": {},
   "outputs": [],
   "source": [
    "in_school or in_school"
   ]
  },
  {
   "cell_type": "code",
   "execution_count": null,
   "id": "c81c93e1",
   "metadata": {},
   "outputs": [],
   "source": [
    "not(in_school)"
   ]
  },
  {
   "cell_type": "code",
   "execution_count": null,
   "id": "2e603351",
   "metadata": {},
   "outputs": [],
   "source": [
    "not(in_college)"
   ]
  },
  {
   "cell_type": "markdown",
   "id": "d861ee7b",
   "metadata": {},
   "source": [
    "#### Membership operators\n"
   ]
  },
  {
   "cell_type": "code",
   "execution_count": null,
   "id": "8760eb71",
   "metadata": {},
   "outputs": [],
   "source": [
    "vowels=\"aeiou\"\n",
    "print(\"u\" in vowels)"
   ]
  },
  {
   "cell_type": "code",
   "execution_count": null,
   "id": "4e2b2231",
   "metadata": {},
   "outputs": [],
   "source": [
    "print(\"l\" in vowels)"
   ]
  },
  {
   "cell_type": "code",
   "execution_count": null,
   "id": "4f919040",
   "metadata": {},
   "outputs": [],
   "source": [
    "print(\"u\" not in vowels)"
   ]
  },
  {
   "cell_type": "markdown",
   "id": "122c946f",
   "metadata": {},
   "source": [
    "#### Assignment operators"
   ]
  },
  {
   "cell_type": "code",
   "execution_count": null,
   "id": "aaa1df3d",
   "metadata": {},
   "outputs": [],
   "source": [
    "a=5\n",
    "b=3\n",
    "a=a+b\n",
    "a"
   ]
  },
  {
   "cell_type": "code",
   "execution_count": null,
   "id": "941c711d",
   "metadata": {},
   "outputs": [],
   "source": [
    "a=5\n",
    "b=3\n",
    "a+=b\n",
    "a"
   ]
  },
  {
   "cell_type": "markdown",
   "id": "d109d3ea",
   "metadata": {},
   "source": [
    "### Conditional statements"
   ]
  },
  {
   "cell_type": "code",
   "execution_count": null,
   "id": "58b2d774",
   "metadata": {},
   "outputs": [],
   "source": [
    "num=5\n",
    "if(num>0):\n",
    "    print(num,\"is greater than zero\")"
   ]
  },
  {
   "cell_type": "code",
   "execution_count": null,
   "id": "6fbb5ac5",
   "metadata": {},
   "outputs": [],
   "source": [
    "num=5\n",
    "if(num<0):\n",
    "    print(num,\"is greater than zero\")"
   ]
  },
  {
   "cell_type": "code",
   "execution_count": null,
   "id": "077ad135",
   "metadata": {},
   "outputs": [],
   "source": [
    "num=5\n",
    "if(num>0):\n",
    "    print(num,\"is greater than zero\")\n",
    "else:\n",
    "    print(num,\"is lesser than zero\")"
   ]
  },
  {
   "cell_type": "code",
   "execution_count": null,
   "id": "7e301c33",
   "metadata": {},
   "outputs": [],
   "source": [
    "num=-5\n",
    "if(num>0):\n",
    "    print(num,\"is greater than zero\")\n",
    "else:\n",
    "    print(num,\"is lesser than zero\")"
   ]
  },
  {
   "cell_type": "code",
   "execution_count": 4,
   "id": "131b4908",
   "metadata": {},
   "outputs": [
    {
     "name": "stdout",
     "output_type": "stream",
     "text": [
      "Enter age: 2\n",
      "No fares for age group 0-3\n"
     ]
    }
   ],
   "source": [
    "age=int(input(\"Enter age: \"))\n",
    "if(0<age<3):\n",
    "    print(\"No fares for age group 0-3\")\n",
    "elif(3<age<10):\n",
    "    print(\"Bus fare is 10\")\n",
    "elif(10<age<20):\n",
    "    print(\"Bus fare is 20\") \n",
    "else:\n",
    "    print(\"Bus fare is 30\")"
   ]
  },
  {
   "cell_type": "code",
   "execution_count": 18,
   "id": "cbfcce76",
   "metadata": {},
   "outputs": [],
   "source": [
    "num1=1000\n",
    "num2=2\n",
    "num3=300"
   ]
  },
  {
   "cell_type": "code",
   "execution_count": 19,
   "id": "ba2f7806",
   "metadata": {},
   "outputs": [
    {
     "name": "stdout",
     "output_type": "stream",
     "text": [
      "num1 is greater\n"
     ]
    }
   ],
   "source": [
    "if(num1>num2) and (num1>num3):\n",
    "  print(\"num1 is greater\")\n",
    "else:\n",
    "  if(num3>num2):\n",
    "    print(\"num3 is greater\")\n",
    "  else:\n",
    "    print(\"num2 is greater\")"
   ]
  },
  {
   "cell_type": "markdown",
   "id": "b105394d",
   "metadata": {},
   "source": [
    "### Day 3"
   ]
  },
  {
   "cell_type": "markdown",
   "id": "16eb1b55",
   "metadata": {},
   "source": [
    "#### Strings"
   ]
  },
  {
   "cell_type": "code",
   "execution_count": 21,
   "id": "194d8f96",
   "metadata": {},
   "outputs": [
    {
     "name": "stdout",
     "output_type": "stream",
     "text": [
      "latha\n"
     ]
    },
    {
     "data": {
      "text/plain": [
       "str"
      ]
     },
     "execution_count": 21,
     "metadata": {},
     "output_type": "execute_result"
    }
   ],
   "source": [
    "name=\"latha\"\n",
    "print(name)\n",
    "type(name)"
   ]
  },
  {
   "cell_type": "code",
   "execution_count": 22,
   "id": "8bb4d0cb",
   "metadata": {},
   "outputs": [],
   "source": [
    "text=\"I love Python\""
   ]
  },
  {
   "cell_type": "code",
   "execution_count": 23,
   "id": "b8127442",
   "metadata": {},
   "outputs": [
    {
     "data": {
      "text/plain": [
       "'I'"
      ]
     },
     "execution_count": 23,
     "metadata": {},
     "output_type": "execute_result"
    }
   ],
   "source": [
    "text[0]"
   ]
  },
  {
   "cell_type": "code",
   "execution_count": 25,
   "id": "9285499b",
   "metadata": {},
   "outputs": [
    {
     "data": {
      "text/plain": [
       "'l'"
      ]
     },
     "execution_count": 25,
     "metadata": {},
     "output_type": "execute_result"
    }
   ],
   "source": [
    "text[2]"
   ]
  },
  {
   "cell_type": "code",
   "execution_count": 26,
   "id": "ec88b516",
   "metadata": {},
   "outputs": [
    {
     "data": {
      "text/plain": [
       "'n'"
      ]
     },
     "execution_count": 26,
     "metadata": {},
     "output_type": "execute_result"
    }
   ],
   "source": [
    "text[-1]"
   ]
  },
  {
   "cell_type": "code",
   "execution_count": 27,
   "id": "517c627b",
   "metadata": {},
   "outputs": [
    {
     "data": {
      "text/plain": [
       "'h'"
      ]
     },
     "execution_count": 27,
     "metadata": {},
     "output_type": "execute_result"
    }
   ],
   "source": [
    "text[-3]"
   ]
  },
  {
   "cell_type": "code",
   "execution_count": 28,
   "id": "bf024f5e",
   "metadata": {},
   "outputs": [
    {
     "data": {
      "text/plain": [
       "'I love Python'"
      ]
     },
     "execution_count": 28,
     "metadata": {},
     "output_type": "execute_result"
    }
   ],
   "source": [
    "text[:]"
   ]
  },
  {
   "cell_type": "code",
   "execution_count": 29,
   "id": "c518169c",
   "metadata": {},
   "outputs": [
    {
     "data": {
      "text/plain": [
       "'love'"
      ]
     },
     "execution_count": 29,
     "metadata": {},
     "output_type": "execute_result"
    }
   ],
   "source": [
    "text[2:6]"
   ]
  },
  {
   "cell_type": "code",
   "execution_count": 30,
   "id": "1644b3de",
   "metadata": {},
   "outputs": [
    {
     "data": {
      "text/plain": [
       "'I love Python'"
      ]
     },
     "execution_count": 30,
     "metadata": {},
     "output_type": "execute_result"
    }
   ],
   "source": [
    "text[:len(text)]"
   ]
  },
  {
   "cell_type": "code",
   "execution_count": 31,
   "id": "b39806a3",
   "metadata": {},
   "outputs": [
    {
     "data": {
      "text/plain": [
       "'love Python'"
      ]
     },
     "execution_count": 31,
     "metadata": {},
     "output_type": "execute_result"
    }
   ],
   "source": [
    "text[2:]"
   ]
  },
  {
   "cell_type": "code",
   "execution_count": 32,
   "id": "5f8b8799",
   "metadata": {},
   "outputs": [
    {
     "data": {
      "text/plain": [
       "'nohtyP evol I'"
      ]
     },
     "execution_count": 32,
     "metadata": {},
     "output_type": "execute_result"
    }
   ],
   "source": [
    "text[::-1]"
   ]
  },
  {
   "cell_type": "code",
   "execution_count": null,
   "id": "93d5cdc8",
   "metadata": {},
   "outputs": [],
   "source": [
    "### love Pytho\n",
    "### l\n",
    "### nohtyp"
   ]
  },
  {
   "cell_type": "code",
   "execution_count": 33,
   "id": "9006e730",
   "metadata": {},
   "outputs": [
    {
     "data": {
      "text/plain": [
       "'love Pytho'"
      ]
     },
     "execution_count": 33,
     "metadata": {},
     "output_type": "execute_result"
    }
   ],
   "source": [
    "text[2:12]"
   ]
  },
  {
   "cell_type": "code",
   "execution_count": 36,
   "id": "71fc2163",
   "metadata": {},
   "outputs": [
    {
     "data": {
      "text/plain": [
       "' love Pytho'"
      ]
     },
     "execution_count": 36,
     "metadata": {},
     "output_type": "execute_result"
    }
   ],
   "source": [
    "text[1:-1]"
   ]
  },
  {
   "cell_type": "code",
   "execution_count": 34,
   "id": "3bdb2469",
   "metadata": {},
   "outputs": [
    {
     "data": {
      "text/plain": [
       "'l'"
      ]
     },
     "execution_count": 34,
     "metadata": {},
     "output_type": "execute_result"
    }
   ],
   "source": [
    "text[2]"
   ]
  },
  {
   "cell_type": "code",
   "execution_count": 35,
   "id": "5262c732",
   "metadata": {},
   "outputs": [
    {
     "data": {
      "text/plain": [
       "'nohtyP'"
      ]
     },
     "execution_count": 35,
     "metadata": {},
     "output_type": "execute_result"
    }
   ],
   "source": [
    "text[:-7:-1]"
   ]
  },
  {
   "cell_type": "code",
   "execution_count": 38,
   "id": "bd59e29f",
   "metadata": {},
   "outputs": [
    {
     "data": {
      "text/plain": [
       "'l'"
      ]
     },
     "execution_count": 38,
     "metadata": {},
     "output_type": "execute_result"
    }
   ],
   "source": [
    "### reverse the string and displace the third last letter\n",
    "text[::-1][-3]"
   ]
  },
  {
   "cell_type": "code",
   "execution_count": 39,
   "id": "244229a2",
   "metadata": {},
   "outputs": [
    {
     "data": {
      "text/plain": [
       "'I love Data Science'"
      ]
     },
     "execution_count": 39,
     "metadata": {},
     "output_type": "execute_result"
    }
   ],
   "source": [
    "text.replace(\"Python\",\"Data Science\")"
   ]
  },
  {
   "cell_type": "code",
   "execution_count": 40,
   "id": "029021b3",
   "metadata": {},
   "outputs": [
    {
     "data": {
      "text/plain": [
       "'I LOVE PYTHON'"
      ]
     },
     "execution_count": 40,
     "metadata": {},
     "output_type": "execute_result"
    }
   ],
   "source": [
    "text.upper()"
   ]
  },
  {
   "cell_type": "code",
   "execution_count": 41,
   "id": "0d1e9c5a",
   "metadata": {},
   "outputs": [
    {
     "data": {
      "text/plain": [
       "'i love python'"
      ]
     },
     "execution_count": 41,
     "metadata": {},
     "output_type": "execute_result"
    }
   ],
   "source": [
    "text.lower()"
   ]
  },
  {
   "cell_type": "code",
   "execution_count": 42,
   "id": "cd410f51",
   "metadata": {},
   "outputs": [
    {
     "data": {
      "text/plain": [
       "'I Love Python'"
      ]
     },
     "execution_count": 42,
     "metadata": {},
     "output_type": "execute_result"
    }
   ],
   "source": [
    "text.title()"
   ]
  },
  {
   "cell_type": "code",
   "execution_count": 45,
   "id": "3253f48a",
   "metadata": {},
   "outputs": [
    {
     "data": {
      "text/plain": [
       "'04-06-2023'"
      ]
     },
     "execution_count": 45,
     "metadata": {},
     "output_type": "execute_result"
    }
   ],
   "source": [
    "date=\"04\",\"06\",\"2023\"\n",
    "sep='-'\n",
    "sep.join(date)"
   ]
  },
  {
   "cell_type": "code",
   "execution_count": 46,
   "id": "8d612f3b",
   "metadata": {},
   "outputs": [
    {
     "data": {
      "text/plain": [
       "'Python*for*data*science'"
      ]
     },
     "execution_count": 46,
     "metadata": {},
     "output_type": "execute_result"
    }
   ],
   "source": [
    "text=\"***Python*for*data*science***\"\n",
    "text.strip(\"*\")"
   ]
  },
  {
   "cell_type": "code",
   "execution_count": 47,
   "id": "d46f924a",
   "metadata": {},
   "outputs": [
    {
     "data": {
      "text/plain": [
       "'Python*for*data*science'"
      ]
     },
     "execution_count": 47,
     "metadata": {},
     "output_type": "execute_result"
    }
   ],
   "source": [
    "text=\"***Python*for*data*science\"\n",
    "text.strip(\"*\")"
   ]
  },
  {
   "cell_type": "markdown",
   "id": "f30c287e",
   "metadata": {},
   "source": [
    "### List"
   ]
  },
  {
   "cell_type": "code",
   "execution_count": 53,
   "id": "381a9942",
   "metadata": {},
   "outputs": [
    {
     "data": {
      "text/plain": [
       "[1, 2, 3, 7, -1, 'hi', 5.7, 1, 1, 1]"
      ]
     },
     "execution_count": 53,
     "metadata": {},
     "output_type": "execute_result"
    }
   ],
   "source": [
    "sample_list=[1,2,3,7,-1,\"hi\",5.7,1,1,1]\n",
    "sample_list"
   ]
  },
  {
   "cell_type": "code",
   "execution_count": 54,
   "id": "98ec5c58",
   "metadata": {},
   "outputs": [
    {
     "data": {
      "text/plain": [
       "list"
      ]
     },
     "execution_count": 54,
     "metadata": {},
     "output_type": "execute_result"
    }
   ],
   "source": [
    "type(sample_list)"
   ]
  },
  {
   "cell_type": "markdown",
   "id": "0f673342",
   "metadata": {},
   "source": [
    "##### Elements in a list are seperated by comma and enclosed in square brackets"
   ]
  },
  {
   "cell_type": "markdown",
   "id": "e28aaf9e",
   "metadata": {},
   "source": [
    "###### List is hetrogenous-> Multiple data types"
   ]
  },
  {
   "cell_type": "markdown",
   "id": "a260fedf",
   "metadata": {},
   "source": [
    "###### List can have duplicates"
   ]
  },
  {
   "cell_type": "code",
   "execution_count": 55,
   "id": "75466405",
   "metadata": {},
   "outputs": [
    {
     "name": "stdout",
     "output_type": "stream",
     "text": [
      "['Python', 'R', 'DS']\n"
     ]
    },
    {
     "data": {
      "text/plain": [
       "list"
      ]
     },
     "execution_count": 55,
     "metadata": {},
     "output_type": "execute_result"
    }
   ],
   "source": [
    "book_list=[\"Python\",\"R\",\"DS\"]\n",
    "print(book_list)\n",
    "type(book_list)"
   ]
  },
  {
   "cell_type": "code",
   "execution_count": 56,
   "id": "ad3a30fa",
   "metadata": {},
   "outputs": [],
   "source": [
    "novels=[\"Lord of the rings\",\"Harry Potter\",\"Esha\"]"
   ]
  },
  {
   "cell_type": "code",
   "execution_count": 57,
   "id": "b51f7c08",
   "metadata": {},
   "outputs": [
    {
     "data": {
      "text/plain": [
       "['Python', 'R', 'DS', 'Lord of the rings', 'Harry Potter', 'Esha']"
      ]
     },
     "execution_count": 57,
     "metadata": {},
     "output_type": "execute_result"
    }
   ],
   "source": [
    "library=book_list+novels\n",
    "library"
   ]
  },
  {
   "cell_type": "code",
   "execution_count": 58,
   "id": "9902d40e",
   "metadata": {},
   "outputs": [],
   "source": [
    "novels.append(\"Jumanji\")"
   ]
  },
  {
   "cell_type": "code",
   "execution_count": 59,
   "id": "deeeb4e9",
   "metadata": {},
   "outputs": [
    {
     "data": {
      "text/plain": [
       "['Lord of the rings', 'Harry Potter', 'Esha', 'Jumanji']"
      ]
     },
     "execution_count": 59,
     "metadata": {},
     "output_type": "execute_result"
    }
   ],
   "source": [
    "novels"
   ]
  },
  {
   "cell_type": "code",
   "execution_count": 60,
   "id": "2e9a50e5",
   "metadata": {},
   "outputs": [
    {
     "data": {
      "text/plain": [
       "['Lord of the rings', 'Leader', 'Harry Potter', 'Esha', 'Jumanji']"
      ]
     },
     "execution_count": 60,
     "metadata": {},
     "output_type": "execute_result"
    }
   ],
   "source": [
    "novels.insert(1,\"Leader\")\n",
    "novels"
   ]
  },
  {
   "cell_type": "code",
   "execution_count": 72,
   "id": "3488bb4e",
   "metadata": {},
   "outputs": [],
   "source": [
    "avg_prices=[21,22,56,12,11,9]\n",
    "avg_prices.sort()"
   ]
  },
  {
   "cell_type": "code",
   "execution_count": 73,
   "id": "5285811a",
   "metadata": {},
   "outputs": [
    {
     "data": {
      "text/plain": [
       "[9, 11, 12, 21, 22, 56]"
      ]
     },
     "execution_count": 73,
     "metadata": {},
     "output_type": "execute_result"
    }
   ],
   "source": [
    "avg_prices"
   ]
  },
  {
   "cell_type": "code",
   "execution_count": 74,
   "id": "493a6b2d",
   "metadata": {},
   "outputs": [
    {
     "data": {
      "text/plain": [
       "[9, 11, 12, 21, 22, 56]"
      ]
     },
     "execution_count": 74,
     "metadata": {},
     "output_type": "execute_result"
    }
   ],
   "source": [
    "avg_prices_sorted=sorted(avg_prices)\n",
    "avg_prices_sorted"
   ]
  },
  {
   "cell_type": "code",
   "execution_count": 63,
   "id": "8a4015d2",
   "metadata": {},
   "outputs": [],
   "source": [
    "prod=[\"mango\",\"orange\",\"apple\"]\n",
    "prod.sort()"
   ]
  },
  {
   "cell_type": "code",
   "execution_count": 64,
   "id": "56659c66",
   "metadata": {},
   "outputs": [
    {
     "data": {
      "text/plain": [
       "['apple', 'mango', 'orange']"
      ]
     },
     "execution_count": 64,
     "metadata": {},
     "output_type": "execute_result"
    }
   ],
   "source": [
    "prod"
   ]
  },
  {
   "cell_type": "code",
   "execution_count": 65,
   "id": "c313c869",
   "metadata": {},
   "outputs": [],
   "source": [
    "avg_prices.sort(reverse=True)"
   ]
  },
  {
   "cell_type": "code",
   "execution_count": 66,
   "id": "c3b0b642",
   "metadata": {},
   "outputs": [
    {
     "data": {
      "text/plain": [
       "[56, 22, 21, 12, 11, 9]"
      ]
     },
     "execution_count": 66,
     "metadata": {},
     "output_type": "execute_result"
    }
   ],
   "source": [
    "avg_prices"
   ]
  },
  {
   "cell_type": "code",
   "execution_count": 67,
   "id": "b158d999",
   "metadata": {},
   "outputs": [],
   "source": [
    "prod.sort(reverse=True)"
   ]
  },
  {
   "cell_type": "code",
   "execution_count": 68,
   "id": "8818577d",
   "metadata": {},
   "outputs": [
    {
     "data": {
      "text/plain": [
       "['orange', 'mango', 'apple']"
      ]
     },
     "execution_count": 68,
     "metadata": {},
     "output_type": "execute_result"
    }
   ],
   "source": [
    "prod"
   ]
  },
  {
   "cell_type": "code",
   "execution_count": 69,
   "id": "3a43e8f1",
   "metadata": {},
   "outputs": [
    {
     "data": {
      "text/plain": [
       "[9, 11, 12, 12.6, 21, 22, 56]"
      ]
     },
     "execution_count": 69,
     "metadata": {},
     "output_type": "execute_result"
    }
   ],
   "source": [
    "avg_prices=[21,22,56,12,11,9,12.6]\n",
    "avg_prices.sort()\n",
    "avg_prices"
   ]
  },
  {
   "cell_type": "code",
   "execution_count": 82,
   "id": "881e8890",
   "metadata": {},
   "outputs": [
    {
     "ename": "TypeError",
     "evalue": "'<' not supported between instances of 'str' and 'float'",
     "output_type": "error",
     "traceback": [
      "\u001b[1;31m---------------------------------------------------------------------------\u001b[0m",
      "\u001b[1;31mTypeError\u001b[0m                                 Traceback (most recent call last)",
      "Cell \u001b[1;32mIn[82], line 2\u001b[0m\n\u001b[0;32m      1\u001b[0m avg_prices\u001b[38;5;241m=\u001b[39m[\u001b[38;5;241m21\u001b[39m,\u001b[38;5;241m22\u001b[39m,\u001b[38;5;241m56\u001b[39m,\u001b[38;5;241m12\u001b[39m,\u001b[38;5;241m11\u001b[39m,\u001b[38;5;241m9\u001b[39m,\u001b[38;5;241m12.6\u001b[39m,\u001b[38;5;124m\"\u001b[39m\u001b[38;5;124mhi\u001b[39m\u001b[38;5;124m\"\u001b[39m]\n\u001b[1;32m----> 2\u001b[0m \u001b[43mavg_prices\u001b[49m\u001b[38;5;241;43m.\u001b[39;49m\u001b[43msort\u001b[49m\u001b[43m(\u001b[49m\u001b[43m)\u001b[49m\n\u001b[0;32m      3\u001b[0m avg_prices\n",
      "\u001b[1;31mTypeError\u001b[0m: '<' not supported between instances of 'str' and 'float'"
     ]
    }
   ],
   "source": [
    "avg_prices=[21,22,56,12,11,9,12.6,\"hi\"]\n",
    "avg_prices.sort()\n",
    "avg_prices"
   ]
  },
  {
   "cell_type": "code",
   "execution_count": 83,
   "id": "f3192ca2",
   "metadata": {},
   "outputs": [
    {
     "ename": "TypeError",
     "evalue": "'>' not supported between instances of 'str' and 'int'",
     "output_type": "error",
     "traceback": [
      "\u001b[1;31m---------------------------------------------------------------------------\u001b[0m",
      "\u001b[1;31mTypeError\u001b[0m                                 Traceback (most recent call last)",
      "Cell \u001b[1;32mIn[83], line 1\u001b[0m\n\u001b[1;32m----> 1\u001b[0m \u001b[38;5;28;43mmax\u001b[39;49m\u001b[43m(\u001b[49m\u001b[43mavg_prices\u001b[49m\u001b[43m)\u001b[49m\n",
      "\u001b[1;31mTypeError\u001b[0m: '>' not supported between instances of 'str' and 'int'"
     ]
    }
   ],
   "source": [
    "max(avg_prices)"
   ]
  },
  {
   "cell_type": "code",
   "execution_count": 75,
   "id": "19ff9418",
   "metadata": {},
   "outputs": [
    {
     "name": "stdout",
     "output_type": "stream",
     "text": [
      "True\n"
     ]
    }
   ],
   "source": [
    "products=[\"Dairy\",\"Bakery\",\"Grocery\",\"Clothing\"]\n",
    "print(\"Bakery\" in products)"
   ]
  },
  {
   "cell_type": "code",
   "execution_count": 76,
   "id": "f3ad1c3a",
   "metadata": {},
   "outputs": [
    {
     "name": "stdout",
     "output_type": "stream",
     "text": [
      "False\n"
     ]
    }
   ],
   "source": [
    "print(\"Bakery\" not in products)"
   ]
  },
  {
   "cell_type": "code",
   "execution_count": 77,
   "id": "89367261",
   "metadata": {},
   "outputs": [
    {
     "name": "stdout",
     "output_type": "stream",
     "text": [
      "Dairy\n",
      "Bakery\n",
      "Grocery\n",
      "Clothing\n"
     ]
    }
   ],
   "source": [
    "for books in products:\n",
    "    print(books)"
   ]
  },
  {
   "cell_type": "code",
   "execution_count": 78,
   "id": "c5329643",
   "metadata": {},
   "outputs": [
    {
     "data": {
      "text/plain": [
       "7"
      ]
     },
     "execution_count": 78,
     "metadata": {},
     "output_type": "execute_result"
    }
   ],
   "source": [
    "prices=[1,2,3,4,8,5,-1]\n",
    "len(prices)"
   ]
  },
  {
   "cell_type": "code",
   "execution_count": 79,
   "id": "e6402b28",
   "metadata": {},
   "outputs": [
    {
     "data": {
      "text/plain": [
       "8"
      ]
     },
     "execution_count": 79,
     "metadata": {},
     "output_type": "execute_result"
    }
   ],
   "source": [
    "max(prices)"
   ]
  },
  {
   "cell_type": "code",
   "execution_count": 80,
   "id": "c677c41f",
   "metadata": {},
   "outputs": [
    {
     "data": {
      "text/plain": [
       "-1"
      ]
     },
     "execution_count": 80,
     "metadata": {},
     "output_type": "execute_result"
    }
   ],
   "source": [
    "min(prices)"
   ]
  },
  {
   "cell_type": "code",
   "execution_count": 84,
   "id": "c55c59ff",
   "metadata": {},
   "outputs": [],
   "source": [
    "products.clear()"
   ]
  },
  {
   "cell_type": "code",
   "execution_count": 85,
   "id": "660af335",
   "metadata": {},
   "outputs": [
    {
     "data": {
      "text/plain": [
       "[]"
      ]
     },
     "execution_count": 85,
     "metadata": {},
     "output_type": "execute_result"
    }
   ],
   "source": [
    "products"
   ]
  },
  {
   "cell_type": "code",
   "execution_count": 86,
   "id": "94432628",
   "metadata": {},
   "outputs": [
    {
     "data": {
      "text/plain": [
       "5"
      ]
     },
     "execution_count": 86,
     "metadata": {},
     "output_type": "execute_result"
    }
   ],
   "source": [
    "prices=[1,2,3,4,8,5,-1,1,1,1,1]\n",
    "prices.count(1)"
   ]
  },
  {
   "cell_type": "code",
   "execution_count": 87,
   "id": "a3e1942b",
   "metadata": {},
   "outputs": [],
   "source": [
    "items=[\"hi\",\"hello\"]\n",
    "prices.extend(items)"
   ]
  },
  {
   "cell_type": "code",
   "execution_count": 88,
   "id": "82318e7c",
   "metadata": {},
   "outputs": [
    {
     "data": {
      "text/plain": [
       "[1, 2, 3, 4, 8, 5, -1, 1, 1, 1, 1, 'hi', 'hello']"
      ]
     },
     "execution_count": 88,
     "metadata": {},
     "output_type": "execute_result"
    }
   ],
   "source": [
    "prices"
   ]
  },
  {
   "cell_type": "code",
   "execution_count": 91,
   "id": "ee1d640d",
   "metadata": {},
   "outputs": [
    {
     "data": {
      "text/plain": [
       "11"
      ]
     },
     "execution_count": 91,
     "metadata": {},
     "output_type": "execute_result"
    }
   ],
   "source": [
    "prices.index(\"hi\")"
   ]
  },
  {
   "cell_type": "code",
   "execution_count": 92,
   "id": "12722e15",
   "metadata": {},
   "outputs": [
    {
     "data": {
      "text/plain": [
       "[1, 2, 'ai', 3, 4, 8, 5, -1, 1, 1, 1, 1, 'hi', 'hello']"
      ]
     },
     "execution_count": 92,
     "metadata": {},
     "output_type": "execute_result"
    }
   ],
   "source": [
    "prices.insert(2,\"ai\")\n",
    "prices"
   ]
  },
  {
   "cell_type": "code",
   "execution_count": 93,
   "id": "bc30c535",
   "metadata": {},
   "outputs": [
    {
     "data": {
      "text/plain": [
       "[1, 2, 3, 4, 8, 5, -1, 1, 1, 1, 1, 'hi', 'hello']"
      ]
     },
     "execution_count": 93,
     "metadata": {},
     "output_type": "execute_result"
    }
   ],
   "source": [
    "prices.pop(2)\n",
    "prices"
   ]
  },
  {
   "cell_type": "code",
   "execution_count": 94,
   "id": "aebecee2",
   "metadata": {},
   "outputs": [],
   "source": [
    "prices.remove(\"hello\")"
   ]
  },
  {
   "cell_type": "code",
   "execution_count": 95,
   "id": "c0159b1b",
   "metadata": {},
   "outputs": [
    {
     "data": {
      "text/plain": [
       "[1, 2, 3, 4, 8, 5, -1, 1, 1, 1, 1, 'hi']"
      ]
     },
     "execution_count": 95,
     "metadata": {},
     "output_type": "execute_result"
    }
   ],
   "source": [
    "prices"
   ]
  },
  {
   "cell_type": "code",
   "execution_count": 96,
   "id": "be6a07eb",
   "metadata": {},
   "outputs": [],
   "source": [
    "prices.reverse()"
   ]
  },
  {
   "cell_type": "code",
   "execution_count": 102,
   "id": "ca3f9bdf",
   "metadata": {},
   "outputs": [
    {
     "data": {
      "text/plain": [
       "['hi', 1, 1, 1, 1, -1, 5, 8, 4, 3, 2, 1]"
      ]
     },
     "execution_count": 102,
     "metadata": {},
     "output_type": "execute_result"
    }
   ],
   "source": [
    "prices"
   ]
  },
  {
   "cell_type": "code",
   "execution_count": 98,
   "id": "0c3a402c",
   "metadata": {},
   "outputs": [
    {
     "data": {
      "text/plain": [
       "['hi', 1, 1]"
      ]
     },
     "execution_count": 98,
     "metadata": {},
     "output_type": "execute_result"
    }
   ],
   "source": [
    "prices[0:3]"
   ]
  },
  {
   "cell_type": "code",
   "execution_count": 99,
   "id": "4662f983",
   "metadata": {},
   "outputs": [
    {
     "data": {
      "text/plain": [
       "[1, 1, -1, 5]"
      ]
     },
     "execution_count": 99,
     "metadata": {},
     "output_type": "execute_result"
    }
   ],
   "source": [
    "prices[3:7]"
   ]
  },
  {
   "cell_type": "code",
   "execution_count": 100,
   "id": "19777e95",
   "metadata": {},
   "outputs": [
    {
     "data": {
      "text/plain": [
       "1"
      ]
     },
     "execution_count": 100,
     "metadata": {},
     "output_type": "execute_result"
    }
   ],
   "source": [
    "prices[-1]"
   ]
  },
  {
   "cell_type": "code",
   "execution_count": 103,
   "id": "82f2264d",
   "metadata": {},
   "outputs": [
    {
     "data": {
      "text/plain": [
       "['hi', 1, 1, 1, 1, -1, 5, 8, 4, 3, 2]"
      ]
     },
     "execution_count": 103,
     "metadata": {},
     "output_type": "execute_result"
    }
   ],
   "source": [
    "prices[0:-1]"
   ]
  },
  {
   "cell_type": "code",
   "execution_count": 104,
   "id": "0934c4d7",
   "metadata": {},
   "outputs": [
    {
     "data": {
      "text/plain": [
       "['ds', 1, 1, 1, 1, -1, 5, 8, 4, 3, 2, 1]"
      ]
     },
     "execution_count": 104,
     "metadata": {},
     "output_type": "execute_result"
    }
   ],
   "source": [
    "prices[0]=\"ds\"\n",
    "prices"
   ]
  },
  {
   "cell_type": "code",
   "execution_count": 2,
   "id": "f356f665",
   "metadata": {},
   "outputs": [
    {
     "data": {
      "text/plain": [
       "[100, 2, 3, 4, 5]"
      ]
     },
     "execution_count": 2,
     "metadata": {},
     "output_type": "execute_result"
    }
   ],
   "source": [
    "sample_list=[1,2,3,4,5]\n",
    "sample_list[0]=100\n",
    "sample_list"
   ]
  },
  {
   "cell_type": "markdown",
   "id": "add583fc",
   "metadata": {},
   "source": [
    "##### List is mutable-> change after creating the list"
   ]
  },
  {
   "cell_type": "code",
   "execution_count": 1,
   "id": "76da797b",
   "metadata": {},
   "outputs": [
    {
     "name": "stdout",
     "output_type": "stream",
     "text": [
      "1\n",
      "2\n",
      "3\n",
      "4\n",
      "a\n",
      "b\n"
     ]
    }
   ],
   "source": [
    "l = [1,2,3,4,'a','b'] # Great work!Sreekar Reddy\n",
    "\n",
    "for i in l:\n",
    "  print(i)"
   ]
  },
  {
   "cell_type": "code",
   "execution_count": null,
   "id": "d499f38c",
   "metadata": {},
   "outputs": [],
   "source": [
    "### Everyone should come with property of list that is not discussed"
   ]
  },
  {
   "cell_type": "markdown",
   "id": "f0f7dbbc",
   "metadata": {},
   "source": [
    "### Day 4"
   ]
  },
  {
   "cell_type": "markdown",
   "id": "84e1af1a",
   "metadata": {},
   "source": [
    "#### Tuple"
   ]
  },
  {
   "cell_type": "markdown",
   "id": "db8d8103",
   "metadata": {},
   "source": [
    "##### 1) Container Object\n",
    "##### 2) Heterogenous-> allows multiple data types\n",
    "##### 3) Can have duplicates\n",
    "##### 4) Immutable\n",
    "##### 5) Elements are seperated by comma,enclosed in paranthesis or without any brackets"
   ]
  },
  {
   "cell_type": "code",
   "execution_count": 4,
   "id": "fa620950",
   "metadata": {},
   "outputs": [
    {
     "data": {
      "text/plain": [
       "(1, 6, 2.3, 8.3, 'hi')"
      ]
     },
     "execution_count": 4,
     "metadata": {},
     "output_type": "execute_result"
    }
   ],
   "source": [
    "sample_tuple=(1,6,2.3,8.3,\"hi\")\n",
    "sample_tuple"
   ]
  },
  {
   "cell_type": "code",
   "execution_count": 6,
   "id": "38ef79f8",
   "metadata": {},
   "outputs": [
    {
     "data": {
      "text/plain": [
       "tuple"
      ]
     },
     "execution_count": 6,
     "metadata": {},
     "output_type": "execute_result"
    }
   ],
   "source": [
    "type(sample_tuple)"
   ]
  },
  {
   "cell_type": "code",
   "execution_count": 7,
   "id": "508c4c1e",
   "metadata": {},
   "outputs": [
    {
     "data": {
      "text/plain": [
       "(1, 6, 2.3, 8.3, 'hi')"
      ]
     },
     "execution_count": 7,
     "metadata": {},
     "output_type": "execute_result"
    }
   ],
   "source": [
    "sample_tuple2=1,6,2.3,8.3,\"hi\"\n",
    "sample_tuple2"
   ]
  },
  {
   "cell_type": "code",
   "execution_count": 8,
   "id": "bf74418e",
   "metadata": {},
   "outputs": [
    {
     "data": {
      "text/plain": [
       "tuple"
      ]
     },
     "execution_count": 8,
     "metadata": {},
     "output_type": "execute_result"
    }
   ],
   "source": [
    "type(sample_tuple2)"
   ]
  },
  {
   "cell_type": "code",
   "execution_count": 10,
   "id": "cb9d141b",
   "metadata": {},
   "outputs": [
    {
     "name": "stdout",
     "output_type": "stream",
     "text": [
      "(1, 6, 2.3, 8.3, 'hi')\n",
      "(1, 6, 2.3, 8.3, 'hi')\n"
     ]
    }
   ],
   "source": [
    "print(sample_tuple)\n",
    "print(sample_tuple2)"
   ]
  },
  {
   "cell_type": "code",
   "execution_count": 12,
   "id": "203843f0",
   "metadata": {},
   "outputs": [
    {
     "data": {
      "text/plain": [
       "6"
      ]
     },
     "execution_count": 12,
     "metadata": {},
     "output_type": "execute_result"
    }
   ],
   "source": [
    "sample_tuple[1]"
   ]
  },
  {
   "cell_type": "code",
   "execution_count": 13,
   "id": "109508d1",
   "metadata": {},
   "outputs": [
    {
     "ename": "IndexError",
     "evalue": "tuple index out of range",
     "output_type": "error",
     "traceback": [
      "\u001b[1;31m---------------------------------------------------------------------------\u001b[0m",
      "\u001b[1;31mIndexError\u001b[0m                                Traceback (most recent call last)",
      "Cell \u001b[1;32mIn[13], line 1\u001b[0m\n\u001b[1;32m----> 1\u001b[0m \u001b[43msample_tuple\u001b[49m\u001b[43m[\u001b[49m\u001b[38;5;241;43m10\u001b[39;49m\u001b[43m]\u001b[49m\n",
      "\u001b[1;31mIndexError\u001b[0m: tuple index out of range"
     ]
    }
   ],
   "source": [
    "sample_tuple[10]"
   ]
  },
  {
   "cell_type": "code",
   "execution_count": 16,
   "id": "fa2a9aa7",
   "metadata": {},
   "outputs": [
    {
     "ename": "AttributeError",
     "evalue": "'tuple' object has no attribute 'sort'",
     "output_type": "error",
     "traceback": [
      "\u001b[1;31m---------------------------------------------------------------------------\u001b[0m",
      "\u001b[1;31mAttributeError\u001b[0m                            Traceback (most recent call last)",
      "Cell \u001b[1;32mIn[16], line 2\u001b[0m\n\u001b[0;32m      1\u001b[0m sample_tuple\u001b[38;5;241m=\u001b[39m(\u001b[38;5;241m1\u001b[39m,\u001b[38;5;241m6\u001b[39m,\u001b[38;5;241m2.3\u001b[39m,\u001b[38;5;241m8.3\u001b[39m)\n\u001b[1;32m----> 2\u001b[0m \u001b[43msample_tuple\u001b[49m\u001b[38;5;241;43m.\u001b[39;49m\u001b[43msort\u001b[49m()\n",
      "\u001b[1;31mAttributeError\u001b[0m: 'tuple' object has no attribute 'sort'"
     ]
    }
   ],
   "source": [
    "sample_tuple=(1,6,2.3,8.3)\n",
    "sample_tuple.sort()"
   ]
  },
  {
   "cell_type": "code",
   "execution_count": 17,
   "id": "aa878049",
   "metadata": {},
   "outputs": [
    {
     "data": {
      "text/plain": [
       "[1, 2.3, 6, 8.3]"
      ]
     },
     "execution_count": 17,
     "metadata": {},
     "output_type": "execute_result"
    }
   ],
   "source": [
    "sorted(sample_tuple)"
   ]
  },
  {
   "cell_type": "code",
   "execution_count": 20,
   "id": "882ceea9",
   "metadata": {},
   "outputs": [
    {
     "data": {
      "text/plain": [
       "[8.3, 6, 2.3, 1]"
      ]
     },
     "execution_count": 20,
     "metadata": {},
     "output_type": "execute_result"
    }
   ],
   "source": [
    "sorted(sample_tuple,reverse=True)"
   ]
  },
  {
   "cell_type": "code",
   "execution_count": 22,
   "id": "5fc4a1a8",
   "metadata": {},
   "outputs": [
    {
     "data": {
      "text/plain": [
       "(1,\n",
       " 6,\n",
       " 2.3,\n",
       " 8.3,\n",
       " 1,\n",
       " 6,\n",
       " 2.3,\n",
       " 8.3,\n",
       " 1,\n",
       " 6,\n",
       " 2.3,\n",
       " 8.3,\n",
       " 1,\n",
       " 6,\n",
       " 2.3,\n",
       " 8.3,\n",
       " 1,\n",
       " 6,\n",
       " 2.3,\n",
       " 8.3)"
      ]
     },
     "execution_count": 22,
     "metadata": {},
     "output_type": "execute_result"
    }
   ],
   "source": [
    "n=5\n",
    "rep_tuple=sample_tuple*n\n",
    "rep_tuple"
   ]
  },
  {
   "cell_type": "code",
   "execution_count": 23,
   "id": "b95e5c7e",
   "metadata": {},
   "outputs": [
    {
     "data": {
      "text/plain": [
       "(1, 2, 3, 4, 5, 7, 8, 1)"
      ]
     },
     "execution_count": 23,
     "metadata": {},
     "output_type": "execute_result"
    }
   ],
   "source": [
    "sample_tup1=(1,2,3,4)\n",
    "sample_tup2=(5,7,8,1)\n",
    "sam=sample_tup1+sample_tup2\n",
    "sam"
   ]
  },
  {
   "cell_type": "code",
   "execution_count": 24,
   "id": "97698030",
   "metadata": {},
   "outputs": [
    {
     "data": {
      "text/plain": [
       "(1, 2, 3, 4, 5, 7, 8, 1, 10, 20)"
      ]
     },
     "execution_count": 24,
     "metadata": {},
     "output_type": "execute_result"
    }
   ],
   "source": [
    "sample_tup1=(1,2,3,4)\n",
    "sample_tup2=(5,7,8,1,10,20)\n",
    "sam=sample_tup1+sample_tup2\n",
    "sam"
   ]
  },
  {
   "cell_type": "code",
   "execution_count": 25,
   "id": "6036e716",
   "metadata": {},
   "outputs": [
    {
     "name": "stdout",
     "output_type": "stream",
     "text": [
      "True\n"
     ]
    }
   ],
   "source": [
    "print(2 in sample_tup1)"
   ]
  },
  {
   "cell_type": "code",
   "execution_count": 26,
   "id": "a80f36e7",
   "metadata": {},
   "outputs": [
    {
     "name": "stdout",
     "output_type": "stream",
     "text": [
      "False\n"
     ]
    }
   ],
   "source": [
    "print(10 in sample_tup1)"
   ]
  },
  {
   "cell_type": "code",
   "execution_count": 27,
   "id": "4171fc38",
   "metadata": {},
   "outputs": [
    {
     "name": "stdout",
     "output_type": "stream",
     "text": [
      "True\n"
     ]
    }
   ],
   "source": [
    "print(10 not in sample_tup1)"
   ]
  },
  {
   "cell_type": "code",
   "execution_count": 28,
   "id": "7819c337",
   "metadata": {},
   "outputs": [
    {
     "name": "stdout",
     "output_type": "stream",
     "text": [
      "False\n"
     ]
    }
   ],
   "source": [
    "print(10 in sample_tup1)"
   ]
  },
  {
   "cell_type": "code",
   "execution_count": 33,
   "id": "e318a55a",
   "metadata": {},
   "outputs": [
    {
     "name": "stdout",
     "output_type": "stream",
     "text": [
      "Python\n",
      "R\n",
      "Excel\n"
     ]
    }
   ],
   "source": [
    "Tools=(\"Python\",\"R\",\"Excel\")\n",
    "for every_tool in Tools:\n",
    "    print(every_tool)"
   ]
  },
  {
   "cell_type": "code",
   "execution_count": 34,
   "id": "6da87470",
   "metadata": {},
   "outputs": [
    {
     "data": {
      "text/plain": [
       "3"
      ]
     },
     "execution_count": 34,
     "metadata": {},
     "output_type": "execute_result"
    }
   ],
   "source": [
    "### How many elements in Tools?\n",
    "len(Tools)"
   ]
  },
  {
   "cell_type": "code",
   "execution_count": 45,
   "id": "354a1f0c",
   "metadata": {},
   "outputs": [
    {
     "data": {
      "text/plain": [
       "789"
      ]
     },
     "execution_count": 45,
     "metadata": {},
     "output_type": "execute_result"
    }
   ],
   "source": [
    "Prices=(100,200,213,132,167,789)\n",
    "max(Prices)"
   ]
  },
  {
   "cell_type": "code",
   "execution_count": 46,
   "id": "023b7748",
   "metadata": {},
   "outputs": [
    {
     "data": {
      "text/plain": [
       "100"
      ]
     },
     "execution_count": 46,
     "metadata": {},
     "output_type": "execute_result"
    }
   ],
   "source": [
    "min(Prices)"
   ]
  },
  {
   "cell_type": "code",
   "execution_count": 47,
   "id": "b7a6b6db",
   "metadata": {},
   "outputs": [
    {
     "ename": "TypeError",
     "evalue": "'>' not supported between instances of 'str' and 'int'",
     "output_type": "error",
     "traceback": [
      "\u001b[1;31m---------------------------------------------------------------------------\u001b[0m",
      "\u001b[1;31mTypeError\u001b[0m                                 Traceback (most recent call last)",
      "Cell \u001b[1;32mIn[47], line 2\u001b[0m\n\u001b[0;32m      1\u001b[0m Prices\u001b[38;5;241m=\u001b[39m(\u001b[38;5;241m100\u001b[39m,\u001b[38;5;241m200\u001b[39m,\u001b[38;5;241m213\u001b[39m,\u001b[38;5;241m132\u001b[39m,\u001b[38;5;241m167\u001b[39m,\u001b[38;5;241m789\u001b[39m,\u001b[38;5;124m\"\u001b[39m\u001b[38;5;124mai\u001b[39m\u001b[38;5;124m\"\u001b[39m)\n\u001b[1;32m----> 2\u001b[0m \u001b[38;5;28;43mmax\u001b[39;49m\u001b[43m(\u001b[49m\u001b[43mPrices\u001b[49m\u001b[43m)\u001b[49m\n",
      "\u001b[1;31mTypeError\u001b[0m: '>' not supported between instances of 'str' and 'int'"
     ]
    }
   ],
   "source": [
    "Prices=(100,200,213,132,167,789,\"ai\")\n",
    "max(Prices)"
   ]
  },
  {
   "cell_type": "code",
   "execution_count": 48,
   "id": "ef957a17",
   "metadata": {},
   "outputs": [
    {
     "ename": "AttributeError",
     "evalue": "'tuple' object has no attribute 'append'",
     "output_type": "error",
     "traceback": [
      "\u001b[1;31m---------------------------------------------------------------------------\u001b[0m",
      "\u001b[1;31mAttributeError\u001b[0m                            Traceback (most recent call last)",
      "Cell \u001b[1;32mIn[48], line 1\u001b[0m\n\u001b[1;32m----> 1\u001b[0m \u001b[43mPrices\u001b[49m\u001b[38;5;241;43m.\u001b[39;49m\u001b[43mappend\u001b[49m(\u001b[38;5;241m50\u001b[39m)\n",
      "\u001b[1;31mAttributeError\u001b[0m: 'tuple' object has no attribute 'append'"
     ]
    }
   ],
   "source": [
    "Prices.append(50)"
   ]
  },
  {
   "cell_type": "code",
   "execution_count": 50,
   "id": "313b663f",
   "metadata": {},
   "outputs": [
    {
     "ename": "AttributeError",
     "evalue": "'int' object has no attribute 'append'",
     "output_type": "error",
     "traceback": [
      "\u001b[1;31m---------------------------------------------------------------------------\u001b[0m",
      "\u001b[1;31mAttributeError\u001b[0m                            Traceback (most recent call last)",
      "Cell \u001b[1;32mIn[50], line 1\u001b[0m\n\u001b[1;32m----> 1\u001b[0m \u001b[43mPrices\u001b[49m\u001b[43m[\u001b[49m\u001b[38;5;241;43m2\u001b[39;49m\u001b[43m]\u001b[49m\u001b[38;5;241;43m.\u001b[39;49m\u001b[43mappend\u001b[49m(\u001b[38;5;241m50\u001b[39m)\n",
      "\u001b[1;31mAttributeError\u001b[0m: 'int' object has no attribute 'append'"
     ]
    }
   ],
   "source": [
    "Prices[2].append(50)"
   ]
  },
  {
   "cell_type": "code",
   "execution_count": 53,
   "id": "fc15b120",
   "metadata": {},
   "outputs": [],
   "source": [
    "Prices=(100,200,213,132,167,789,[1,2,3])\n",
    "Prices[6].append(50)"
   ]
  },
  {
   "cell_type": "code",
   "execution_count": 54,
   "id": "a38ca970",
   "metadata": {},
   "outputs": [
    {
     "data": {
      "text/plain": [
       "(100, 200, 213, 132, 167, 789, [1, 2, 3, 50])"
      ]
     },
     "execution_count": 54,
     "metadata": {},
     "output_type": "execute_result"
    }
   ],
   "source": [
    "Prices"
   ]
  },
  {
   "cell_type": "code",
   "execution_count": 55,
   "id": "5bda3b24",
   "metadata": {},
   "outputs": [
    {
     "data": {
      "text/plain": [
       "(100, 200, 213)"
      ]
     },
     "execution_count": 55,
     "metadata": {},
     "output_type": "execute_result"
    }
   ],
   "source": [
    "Prices[0:3]"
   ]
  },
  {
   "cell_type": "code",
   "execution_count": 56,
   "id": "152e80d8",
   "metadata": {},
   "outputs": [
    {
     "data": {
      "text/plain": [
       "(1, 2, 3, 4, 5, 6, 7, 8, 9, 10)"
      ]
     },
     "execution_count": 56,
     "metadata": {},
     "output_type": "execute_result"
    }
   ],
   "source": [
    "tuple(range(1,11)) # Sudip"
   ]
  },
  {
   "cell_type": "code",
   "execution_count": 64,
   "id": "32f8f461",
   "metadata": {},
   "outputs": [
    {
     "name": "stdout",
     "output_type": "stream",
     "text": [
      "('apple', 'kiwi', 'cherry')\n"
     ]
    }
   ],
   "source": [
    "x = (\"apple\", \"banana\", \"cherry\") # Hemanth\n",
    "y = list(x)\n",
    "y[1] = \"kiwi\"\n",
    "x = tuple(y)\n",
    "\n",
    "print(x)"
   ]
  },
  {
   "cell_type": "code",
   "execution_count": 66,
   "id": "4829f123",
   "metadata": {},
   "outputs": [
    {
     "name": "stdout",
     "output_type": "stream",
     "text": [
      "()\n",
      "(1, 2, 3)\n",
      "(1, 'Hello', 3.4)\n",
      "('mouse', [8, 4, 6], (1, 2, 3))\n"
     ]
    }
   ],
   "source": [
    "# Different types of tuples #Omkar\n",
    "\n",
    "# Empty tuple\n",
    "my_tuple = ()\n",
    "print(my_tuple)\n",
    "\n",
    "# Tuple having integers\n",
    "my_tuple = (1, 2, 3)\n",
    "print(my_tuple)\n",
    "\n",
    "# tuple with mixed datatypes\n",
    "my_tuple = (1, \"Hello\", 3.4)\n",
    "print(my_tuple)\n",
    "\n",
    "# nested tuple\n",
    "my_tuple = (\"mouse\", [8, 4, 6], (1, 2, 3))\n",
    "print(my_tuple)"
   ]
  },
  {
   "cell_type": "code",
   "execution_count": 67,
   "id": "a53540a2",
   "metadata": {},
   "outputs": [
    {
     "name": "stdout",
     "output_type": "stream",
     "text": [
      "t\n"
     ]
    }
   ],
   "source": [
    "tuple1=(\"r\",\"r\",\"d\",\"t\") # Preeti\n",
    "print(tuple1[-1])"
   ]
  },
  {
   "cell_type": "markdown",
   "id": "6cfb2d68",
   "metadata": {},
   "source": [
    "### Dictionary"
   ]
  },
  {
   "cell_type": "markdown",
   "id": "b243973f",
   "metadata": {},
   "source": [
    "##### 1) Key-value pair\n",
    "##### 2) {}\n",
    "##### 3) Indexing- Square bracket\n",
    "##### 4) Mutable"
   ]
  },
  {
   "cell_type": "code",
   "execution_count": 80,
   "id": "bc248f22",
   "metadata": {},
   "outputs": [],
   "source": [
    "dict_1={'name':\"arun\",\"hobbies\":[\"painting\",\"singing\",\"cooking\"],1:23}"
   ]
  },
  {
   "cell_type": "code",
   "execution_count": 81,
   "id": "a82edf27",
   "metadata": {},
   "outputs": [
    {
     "data": {
      "text/plain": [
       "{'name': 'arun', 'hobbies': ['painting', 'singing', 'cooking'], 1: 23}"
      ]
     },
     "execution_count": 81,
     "metadata": {},
     "output_type": "execute_result"
    }
   ],
   "source": [
    "dict_1"
   ]
  },
  {
   "cell_type": "code",
   "execution_count": 82,
   "id": "6606c8a3",
   "metadata": {},
   "outputs": [
    {
     "ename": "NameError",
     "evalue": "name 'keys' is not defined",
     "output_type": "error",
     "traceback": [
      "\u001b[1;31m---------------------------------------------------------------------------\u001b[0m",
      "\u001b[1;31mNameError\u001b[0m                                 Traceback (most recent call last)",
      "Cell \u001b[1;32mIn[82], line 1\u001b[0m\n\u001b[1;32m----> 1\u001b[0m dict_1[\u001b[43mkeys\u001b[49m]\n",
      "\u001b[1;31mNameError\u001b[0m: name 'keys' is not defined"
     ]
    }
   ],
   "source": [
    "dict_1[keys]"
   ]
  },
  {
   "cell_type": "code",
   "execution_count": 83,
   "id": "2fb007ea",
   "metadata": {},
   "outputs": [
    {
     "ename": "NameError",
     "evalue": "name 'dict_' is not defined",
     "output_type": "error",
     "traceback": [
      "\u001b[1;31m---------------------------------------------------------------------------\u001b[0m",
      "\u001b[1;31mNameError\u001b[0m                                 Traceback (most recent call last)",
      "Cell \u001b[1;32mIn[83], line 1\u001b[0m\n\u001b[1;32m----> 1\u001b[0m \u001b[43mdict_\u001b[49m\u001b[38;5;241m.\u001b[39mkeys()\n",
      "\u001b[1;31mNameError\u001b[0m: name 'dict_' is not defined"
     ]
    }
   ],
   "source": [
    "dict_.keys()"
   ]
  },
  {
   "cell_type": "code",
   "execution_count": 84,
   "id": "dfaa0a48",
   "metadata": {},
   "outputs": [
    {
     "data": {
      "text/plain": [
       "dict_values(['arun', ['painting', 'singing', 'cooking'], 23])"
      ]
     },
     "execution_count": 84,
     "metadata": {},
     "output_type": "execute_result"
    }
   ],
   "source": [
    "dict_1.values()"
   ]
  },
  {
   "cell_type": "code",
   "execution_count": 85,
   "id": "281385ea",
   "metadata": {},
   "outputs": [],
   "source": [
    "dict_1['name']=\"Mukund\""
   ]
  },
  {
   "cell_type": "code",
   "execution_count": 86,
   "id": "412d1571",
   "metadata": {},
   "outputs": [
    {
     "data": {
      "text/plain": [
       "{'name': 'Mukund', 'hobbies': ['painting', 'singing', 'cooking'], 1: 23}"
      ]
     },
     "execution_count": 86,
     "metadata": {},
     "output_type": "execute_result"
    }
   ],
   "source": [
    "dict_1"
   ]
  },
  {
   "cell_type": "code",
   "execution_count": 87,
   "id": "11b62794",
   "metadata": {},
   "outputs": [],
   "source": [
    "del dict_1[\"name\"]"
   ]
  },
  {
   "cell_type": "code",
   "execution_count": 88,
   "id": "fe96ff85",
   "metadata": {},
   "outputs": [
    {
     "data": {
      "text/plain": [
       "{'hobbies': ['painting', 'singing', 'cooking'], 1: 23}"
      ]
     },
     "execution_count": 88,
     "metadata": {},
     "output_type": "execute_result"
    }
   ],
   "source": [
    "dict_1"
   ]
  },
  {
   "cell_type": "code",
   "execution_count": 89,
   "id": "a4922d9f",
   "metadata": {},
   "outputs": [],
   "source": [
    "### Add a new key-value\n",
    "dict_1.update({\"class\":\"ds\"})"
   ]
  },
  {
   "cell_type": "code",
   "execution_count": 90,
   "id": "29a7355a",
   "metadata": {},
   "outputs": [
    {
     "data": {
      "text/plain": [
       "{'hobbies': ['painting', 'singing', 'cooking'], 1: 23, 'class': 'ds'}"
      ]
     },
     "execution_count": 90,
     "metadata": {},
     "output_type": "execute_result"
    }
   ],
   "source": [
    "dict_1"
   ]
  },
  {
   "cell_type": "code",
   "execution_count": 91,
   "id": "a3e0f88f",
   "metadata": {},
   "outputs": [
    {
     "data": {
      "text/plain": [
       "3"
      ]
     },
     "execution_count": 91,
     "metadata": {},
     "output_type": "execute_result"
    }
   ],
   "source": [
    "len(dict_1)"
   ]
  },
  {
   "cell_type": "code",
   "execution_count": 92,
   "id": "7574517c",
   "metadata": {},
   "outputs": [
    {
     "data": {
      "text/plain": [
       "dict"
      ]
     },
     "execution_count": 92,
     "metadata": {},
     "output_type": "execute_result"
    }
   ],
   "source": [
    "type(dict_1)"
   ]
  },
  {
   "cell_type": "code",
   "execution_count": 93,
   "id": "18927a68",
   "metadata": {},
   "outputs": [
    {
     "data": {
      "text/plain": [
       "dict_items([('hobbies', ['painting', 'singing', 'cooking']), (1, 23), ('class', 'ds')])"
      ]
     },
     "execution_count": 93,
     "metadata": {},
     "output_type": "execute_result"
    }
   ],
   "source": [
    "dict_1.items()"
   ]
  },
  {
   "cell_type": "code",
   "execution_count": 94,
   "id": "685937ad",
   "metadata": {},
   "outputs": [
    {
     "data": {
      "text/plain": [
       "['painting', 'singing', 'cooking']"
      ]
     },
     "execution_count": 94,
     "metadata": {},
     "output_type": "execute_result"
    }
   ],
   "source": [
    "dict_1.get(\"hobbies\")"
   ]
  },
  {
   "cell_type": "code",
   "execution_count": 95,
   "id": "357d9833",
   "metadata": {},
   "outputs": [
    {
     "data": {
      "text/plain": [
       "'ds'"
      ]
     },
     "execution_count": 95,
     "metadata": {},
     "output_type": "execute_result"
    }
   ],
   "source": [
    "dict_1.get(\"class\")"
   ]
  },
  {
   "cell_type": "code",
   "execution_count": 98,
   "id": "2d852a30",
   "metadata": {},
   "outputs": [],
   "source": [
    "### Sets"
   ]
  },
  {
   "cell_type": "code",
   "execution_count": 110,
   "id": "db2ba464",
   "metadata": {},
   "outputs": [],
   "source": [
    "\n",
    "sample_set={1,2,3,4,5,1,13.4,9.6,\"hi\",\"hello\",\"ds\",-1,11.4,21.5}"
   ]
  },
  {
   "cell_type": "code",
   "execution_count": 111,
   "id": "c7581846",
   "metadata": {},
   "outputs": [
    {
     "data": {
      "text/plain": [
       "{-1, 1, 11.4, 13.4, 2, 21.5, 3, 4, 5, 9.6, 'ds', 'hello', 'hi'}"
      ]
     },
     "execution_count": 111,
     "metadata": {},
     "output_type": "execute_result"
    }
   ],
   "source": [
    "sample_set"
   ]
  },
  {
   "cell_type": "code",
   "execution_count": 112,
   "id": "7c535eaf",
   "metadata": {},
   "outputs": [
    {
     "ename": "TypeError",
     "evalue": "'set' object is not subscriptable",
     "output_type": "error",
     "traceback": [
      "\u001b[1;31m---------------------------------------------------------------------------\u001b[0m",
      "\u001b[1;31mTypeError\u001b[0m                                 Traceback (most recent call last)",
      "Cell \u001b[1;32mIn[112], line 1\u001b[0m\n\u001b[1;32m----> 1\u001b[0m \u001b[43msample_set\u001b[49m\u001b[43m[\u001b[49m\u001b[38;5;241;43m0\u001b[39;49m\u001b[43m]\u001b[49m\n",
      "\u001b[1;31mTypeError\u001b[0m: 'set' object is not subscriptable"
     ]
    }
   ],
   "source": [
    "sample_set[0]"
   ]
  },
  {
   "cell_type": "code",
   "execution_count": 113,
   "id": "f09fd560",
   "metadata": {},
   "outputs": [
    {
     "ename": "TypeError",
     "evalue": "'set' object does not support item assignment",
     "output_type": "error",
     "traceback": [
      "\u001b[1;31m---------------------------------------------------------------------------\u001b[0m",
      "\u001b[1;31mTypeError\u001b[0m                                 Traceback (most recent call last)",
      "Cell \u001b[1;32mIn[113], line 1\u001b[0m\n\u001b[1;32m----> 1\u001b[0m sample_set[\u001b[38;5;241m0\u001b[39m]\u001b[38;5;241m=\u001b[39m\u001b[38;5;241m1\u001b[39m\n",
      "\u001b[1;31mTypeError\u001b[0m: 'set' object does not support item assignment"
     ]
    }
   ],
   "source": [
    "sample_set[0]=1"
   ]
  },
  {
   "cell_type": "code",
   "execution_count": 114,
   "id": "2e368ff7",
   "metadata": {},
   "outputs": [],
   "source": [
    "sample_set.add(100)"
   ]
  },
  {
   "cell_type": "code",
   "execution_count": 115,
   "id": "93b2a558",
   "metadata": {},
   "outputs": [
    {
     "data": {
      "text/plain": [
       "{-1, 1, 100, 11.4, 13.4, 2, 21.5, 3, 4, 5, 9.6, 'ds', 'hello', 'hi'}"
      ]
     },
     "execution_count": 115,
     "metadata": {},
     "output_type": "execute_result"
    }
   ],
   "source": [
    "sample_set"
   ]
  },
  {
   "cell_type": "code",
   "execution_count": 116,
   "id": "29c10dbc",
   "metadata": {},
   "outputs": [],
   "source": [
    "sample_set.remove(-1)"
   ]
  },
  {
   "cell_type": "code",
   "execution_count": 117,
   "id": "57048acf",
   "metadata": {},
   "outputs": [
    {
     "data": {
      "text/plain": [
       "{1, 100, 11.4, 13.4, 2, 21.5, 3, 4, 5, 9.6, 'ds', 'hello', 'hi'}"
      ]
     },
     "execution_count": 117,
     "metadata": {},
     "output_type": "execute_result"
    }
   ],
   "source": [
    "sample_set"
   ]
  },
  {
   "cell_type": "markdown",
   "id": "5907be37",
   "metadata": {},
   "source": [
    "##### Set does not allow duplicates\n",
    "##### we cannot retrieve the set using index\n",
    "##### Set is mutable\n",
    "##### Set has {}\n",
    "##### Ordered -First place"
   ]
  },
  {
   "cell_type": "code",
   "execution_count": null,
   "id": "eb7aee55",
   "metadata": {},
   "outputs": [],
   "source": []
  }
 ],
 "metadata": {
  "kernelspec": {
   "display_name": "Python 3 (ipykernel)",
   "language": "python",
   "name": "python3"
  },
  "language_info": {
   "codemirror_mode": {
    "name": "ipython",
    "version": 3
   },
   "file_extension": ".py",
   "mimetype": "text/x-python",
   "name": "python",
   "nbconvert_exporter": "python",
   "pygments_lexer": "ipython3",
   "version": "3.10.9"
  }
 },
 "nbformat": 4,
 "nbformat_minor": 5
}
